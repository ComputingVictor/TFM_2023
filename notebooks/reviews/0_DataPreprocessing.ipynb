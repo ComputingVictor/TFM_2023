{
 "cells": [
  {
   "attachments": {},
   "cell_type": "markdown",
   "metadata": {},
   "source": [
    "<a name=\"top\"> <h1>00. Data Preprocessing</h1> <a>\n",
    "\n",
    "<p>Análisis de sentimiento: Amazon Reviews<br />\n",
    "<strong>Trabajo de Fin de Master</strong><br />\n",
    "<strong>Master Universitario en Ciencia de Datos</strong></p>\n",
    "\n",
    "\n",
    "<p style=\"text-align:right\">V&iacute;ctor Viloria V&aacute;zquez (<em>victor.viloria@cunef.edu</em>)</p>\n"
   ]
  },
  {
   "attachments": {},
   "cell_type": "markdown",
   "metadata": {},
   "source": [
    "<hr style=\"border:1px solid gray\">"
   ]
  },
  {
   "attachments": {},
   "cell_type": "markdown",
   "metadata": {},
   "source": [
    "### Estructura"
   ]
  },
  {
   "attachments": {},
   "cell_type": "markdown",
   "metadata": {},
   "source": [
    "[Introducción](#introduccion) \n",
    "\n",
    "[1. Librerias utilizadas y funciones](#librerias) \n",
    "\n",
    "[2. Lectura de la base de datos ](#lectura) \n",
    "\n",
    "[3. Tokenización de las reviews ](#tokenizacion) \n",
    "\n",
    "   - 3.1 Conversión a lowercase\n",
    "   - 3.2 Borrado de emoticonos\n",
    "   - 3.3 Borrado de signos de puntuación y saltos de texto\n",
    "   - 3.4 Tokenización y supresión de stopwords\n",
    "\n",
    "[4. Wordcloud e histograma](#wordcloud) \n",
    "\n",
    "\n",
    "[5. Exportación del DF](#exportacion)"
   ]
  },
  {
   "attachments": {},
   "cell_type": "markdown",
   "metadata": {},
   "source": [
    "<hr style=\"border:1px solid gray\">"
   ]
  },
  {
   "attachments": {},
   "cell_type": "markdown",
   "metadata": {},
   "source": [
    "# <a name=\"introduccion\"> Introducción <a>\n"
   ]
  },
  {
   "attachments": {},
   "cell_type": "markdown",
   "metadata": {},
   "source": [
    "En este notebook procederemos a realizar un preprocesamiento de datos para análisis de lenguaje natural (NLP) en reviews publicadas en Amazon, en este caso, acerca de tarjetas de regalo. El dataset a analizar, contiene una gran cantidad de reviews junto a variables relacionadas con cada una de ellas, como son el nº de estrellas que el usuario publicó junto a las reviews, el nombre del usuario, si las reviews han sido utiles, si contenian alguna imagen, etc...\n",
    "\n",
    "El preprocesamiento nos permitirá limpiar los datos y asegurarnos que sean coherentes y tengan un formato adecuado para psoteriormente poder crear un modelo que pueda ser puesto en funcionamiento. Para ello procederemos a utilizar la librería nltk, para poder eliminar stopwords, tokenizar las palabras y la librería r, para eliminar elementos como saltos de texto, emoticonos o links.\n",
    "\n",
    "Finalmente representaremos gráficamente las palabras más comunes y utilizadas del dataset."
   ]
  },
  {
   "attachments": {},
   "cell_type": "markdown",
   "metadata": {},
   "source": [
    "# <a name=\"librerias\"> 1. Librerias utilizadas y funciones <a>\n"
   ]
  },
  {
   "attachments": {},
   "cell_type": "markdown",
   "metadata": {},
   "source": [
    "Importamos las librerias a utilizar para el preprocesamiento:"
   ]
  },
  {
   "cell_type": "code",
   "execution_count": 105,
   "metadata": {},
   "outputs": [
    {
     "name": "stderr",
     "output_type": "stream",
     "text": [
      "[nltk_data] Downloading package punkt to\n",
      "[nltk_data]     C:\\Users\\vvict\\AppData\\Roaming\\nltk_data...\n",
      "[nltk_data]   Package punkt is already up-to-date!\n",
      "[nltk_data] Downloading package stopwords to\n",
      "[nltk_data]     C:\\Users\\vvict\\AppData\\Roaming\\nltk_data...\n",
      "[nltk_data]   Package stopwords is already up-to-date!\n"
     ]
    }
   ],
   "source": [
    "# Import pandas.\n",
    "\n",
    "import pandas as pd\n",
    "\n",
    "# Import nltk.\n",
    "\n",
    "import nltk\n",
    "nltk.download('punkt')\n",
    "\n",
    "# Import nltk stopwords.\n",
    "\n",
    "nltk.download('stopwords')\n",
    "from nltk.corpus import stopwords\n",
    "from collections import Counter\n",
    "\n",
    "# Import wordcloud and matplotlib.\n",
    "\n",
    "from wordcloud import WordCloud\n",
    "import matplotlib.pyplot as plt\n",
    "import seaborn as sns"
   ]
  },
  {
   "attachments": {},
   "cell_type": "markdown",
   "metadata": {},
   "source": [
    "# <a name=\"lectura\"> 2. Lectura de la base de datos <a>\n"
   ]
  },
  {
   "attachments": {},
   "cell_type": "markdown",
   "metadata": {},
   "source": [
    "Procedemos a cargar la base de datos:"
   ]
  },
  {
   "cell_type": "code",
   "execution_count": 106,
   "metadata": {},
   "outputs": [
    {
     "data": {
      "text/html": [
       "<div>\n",
       "<style scoped>\n",
       "    .dataframe tbody tr th:only-of-type {\n",
       "        vertical-align: middle;\n",
       "    }\n",
       "\n",
       "    .dataframe tbody tr th {\n",
       "        vertical-align: top;\n",
       "    }\n",
       "\n",
       "    .dataframe thead th {\n",
       "        text-align: right;\n",
       "    }\n",
       "</style>\n",
       "<table border=\"1\" class=\"dataframe\">\n",
       "  <thead>\n",
       "    <tr style=\"text-align: right;\">\n",
       "      <th></th>\n",
       "      <th>overall</th>\n",
       "      <th>vote</th>\n",
       "      <th>verified</th>\n",
       "      <th>reviewTime</th>\n",
       "      <th>reviewerID</th>\n",
       "      <th>asin</th>\n",
       "      <th>style</th>\n",
       "      <th>reviewerName</th>\n",
       "      <th>reviewText</th>\n",
       "      <th>summary</th>\n",
       "      <th>unixReviewTime</th>\n",
       "      <th>image</th>\n",
       "    </tr>\n",
       "  </thead>\n",
       "  <tbody>\n",
       "    <tr>\n",
       "      <th>0</th>\n",
       "      <td>1</td>\n",
       "      <td>25</td>\n",
       "      <td>False</td>\n",
       "      <td>12 19, 2008</td>\n",
       "      <td>APV13CM0919JD</td>\n",
       "      <td>B001GXRQW0</td>\n",
       "      <td>{'Gift Amount:': ' 50'}</td>\n",
       "      <td>LEH</td>\n",
       "      <td>Amazon,\\nI am shopping for Amazon.com gift car...</td>\n",
       "      <td>Merry Christmas.</td>\n",
       "      <td>1229644800</td>\n",
       "      <td>NaN</td>\n",
       "    </tr>\n",
       "    <tr>\n",
       "      <th>1</th>\n",
       "      <td>5</td>\n",
       "      <td>NaN</td>\n",
       "      <td>False</td>\n",
       "      <td>12 17, 2008</td>\n",
       "      <td>A3G8U1G1V082SN</td>\n",
       "      <td>B001GXRQW0</td>\n",
       "      <td>{'Gift Amount:': ' 50'}</td>\n",
       "      <td>Tali</td>\n",
       "      <td>I got this gift card from a friend, and it was...</td>\n",
       "      <td>Gift card with best selection</td>\n",
       "      <td>1229472000</td>\n",
       "      <td>NaN</td>\n",
       "    </tr>\n",
       "    <tr>\n",
       "      <th>2</th>\n",
       "      <td>5</td>\n",
       "      <td>4</td>\n",
       "      <td>False</td>\n",
       "      <td>12 17, 2008</td>\n",
       "      <td>A11T2Q0EVTUWP</td>\n",
       "      <td>B001GXRQW0</td>\n",
       "      <td>{'Gift Amount:': ' 50'}</td>\n",
       "      <td>Z</td>\n",
       "      <td>aren't we going to save trees?! :) People who ...</td>\n",
       "      <td>A convenient and great gift for the environmen...</td>\n",
       "      <td>1229472000</td>\n",
       "      <td>NaN</td>\n",
       "    </tr>\n",
       "    <tr>\n",
       "      <th>3</th>\n",
       "      <td>5</td>\n",
       "      <td>NaN</td>\n",
       "      <td>False</td>\n",
       "      <td>12 17, 2008</td>\n",
       "      <td>A9YKGBH3SV22C</td>\n",
       "      <td>B001GXRQW0</td>\n",
       "      <td>{'Gift Amount:': ' 25'}</td>\n",
       "      <td>Giotravels</td>\n",
       "      <td>You can always get someone something from Amaz...</td>\n",
       "      <td>Totally make sense</td>\n",
       "      <td>1229472000</td>\n",
       "      <td>NaN</td>\n",
       "    </tr>\n",
       "    <tr>\n",
       "      <th>4</th>\n",
       "      <td>1</td>\n",
       "      <td>NaN</td>\n",
       "      <td>True</td>\n",
       "      <td>12 17, 2008</td>\n",
       "      <td>A34WZIHVF3OKOL</td>\n",
       "      <td>B001GXRQW0</td>\n",
       "      <td>NaN</td>\n",
       "      <td>King Dad</td>\n",
       "      <td>Why take 50 dollars of good money with no limi...</td>\n",
       "      <td>Give CASH!</td>\n",
       "      <td>1229472000</td>\n",
       "      <td>NaN</td>\n",
       "    </tr>\n",
       "  </tbody>\n",
       "</table>\n",
       "</div>"
      ],
      "text/plain": [
       "   overall vote  verified   reviewTime      reviewerID        asin  \\\n",
       "0        1   25     False  12 19, 2008   APV13CM0919JD  B001GXRQW0   \n",
       "1        5  NaN     False  12 17, 2008  A3G8U1G1V082SN  B001GXRQW0   \n",
       "2        5    4     False  12 17, 2008   A11T2Q0EVTUWP  B001GXRQW0   \n",
       "3        5  NaN     False  12 17, 2008   A9YKGBH3SV22C  B001GXRQW0   \n",
       "4        1  NaN      True  12 17, 2008  A34WZIHVF3OKOL  B001GXRQW0   \n",
       "\n",
       "                     style reviewerName  \\\n",
       "0  {'Gift Amount:': ' 50'}          LEH   \n",
       "1  {'Gift Amount:': ' 50'}         Tali   \n",
       "2  {'Gift Amount:': ' 50'}            Z   \n",
       "3  {'Gift Amount:': ' 25'}   Giotravels   \n",
       "4                      NaN     King Dad   \n",
       "\n",
       "                                          reviewText  \\\n",
       "0  Amazon,\\nI am shopping for Amazon.com gift car...   \n",
       "1  I got this gift card from a friend, and it was...   \n",
       "2  aren't we going to save trees?! :) People who ...   \n",
       "3  You can always get someone something from Amaz...   \n",
       "4  Why take 50 dollars of good money with no limi...   \n",
       "\n",
       "                                             summary  unixReviewTime image  \n",
       "0                                   Merry Christmas.      1229644800   NaN  \n",
       "1                      Gift card with best selection      1229472000   NaN  \n",
       "2  A convenient and great gift for the environmen...      1229472000   NaN  \n",
       "3                                 Totally make sense      1229472000   NaN  \n",
       "4                                         Give CASH!      1229472000   NaN  "
      ]
     },
     "execution_count": 106,
     "metadata": {},
     "output_type": "execute_result"
    }
   ],
   "source": [
    "# Read json \n",
    "\n",
    "reviews_df = pd.read_json(\"../../data/raw/Gift_Cards.json\",  lines=True)\n",
    "\n",
    "# Display first 5 rows\n",
    "\n",
    "reviews_df.head()"
   ]
  },
  {
   "attachments": {},
   "cell_type": "markdown",
   "metadata": {},
   "source": [
    "### 2.1. Análisis Exploratorio"
   ]
  },
  {
   "attachments": {},
   "cell_type": "markdown",
   "metadata": {},
   "source": [
    "En primer lugar, observamos la forma del DF. El diccionario de datos se encuentra en `data`."
   ]
  },
  {
   "cell_type": "code",
   "execution_count": 107,
   "metadata": {},
   "outputs": [
    {
     "name": "stdout",
     "output_type": "stream",
     "text": [
      "The dataframe has 147194 rows and 12 columns.\n"
     ]
    }
   ],
   "source": [
    "# Print the shape of the dataframe.\n",
    "\n",
    "print(\"The dataframe has {} rows and {} columns.\".format(reviews_df.shape[0], reviews_df.shape[1]))"
   ]
  },
  {
   "cell_type": "code",
   "execution_count": 108,
   "metadata": {},
   "outputs": [
    {
     "name": "stdout",
     "output_type": "stream",
     "text": [
      "<class 'pandas.core.frame.DataFrame'>\n",
      "RangeIndex: 147194 entries, 0 to 147193\n",
      "Data columns (total 12 columns):\n",
      " #   Column          Non-Null Count   Dtype \n",
      "---  ------          --------------   ----- \n",
      " 0   overall         147194 non-null  int64 \n",
      " 1   vote            6341 non-null    object\n",
      " 2   verified        147194 non-null  bool  \n",
      " 3   reviewTime      147194 non-null  object\n",
      " 4   reviewerID      147194 non-null  object\n",
      " 5   asin            147194 non-null  object\n",
      " 6   style           42375 non-null   object\n",
      " 7   reviewerName    147190 non-null  object\n",
      " 8   reviewText      147035 non-null  object\n",
      " 9   summary         147154 non-null  object\n",
      " 10  unixReviewTime  147194 non-null  int64 \n",
      " 11  image           406 non-null     object\n",
      "dtypes: bool(1), int64(2), object(9)\n",
      "memory usage: 12.5+ MB\n"
     ]
    }
   ],
   "source": [
    "# Print the column names and datatypes.\n",
    "\n",
    "reviews_df.info()"
   ]
  },
  {
   "cell_type": "code",
   "execution_count": 109,
   "metadata": {},
   "outputs": [
    {
     "data": {
      "text/plain": [
       "overall                0\n",
       "vote              140853\n",
       "verified               0\n",
       "reviewTime             0\n",
       "reviewerID             0\n",
       "asin                   0\n",
       "style             104819\n",
       "reviewerName           4\n",
       "reviewText           159\n",
       "summary               40\n",
       "unixReviewTime         0\n",
       "image             146788\n",
       "dtype: int64"
      ]
     },
     "execution_count": 109,
     "metadata": {},
     "output_type": "execute_result"
    }
   ],
   "source": [
    "# Print the number of null values in each column.\n",
    "\n",
    "reviews_df.isnull().sum()"
   ]
  },
  {
   "cell_type": "code",
   "execution_count": 110,
   "metadata": {},
   "outputs": [
    {
     "name": "stdout",
     "output_type": "stream",
     "text": [
      "Número de filas duplicadas: 25458\n"
     ]
    }
   ],
   "source": [
    "#Convertir los diccionarios a cadenas de texto antes de comprobar duplicados,\n",
    "\n",
    "reviews_df['reviewText_str'] = reviews_df['reviewText'].astype(str)\n",
    "\n",
    "# Comprobar filas duplicadas.\n",
    "\n",
    "num_filas_duplicadas = reviews_df.duplicated(['reviewText_str']).sum()\n",
    "\n",
    "# Imprimir el número de filas duplicadas.\n",
    "\n",
    "print(\"Número de filas duplicadas:\", num_filas_duplicadas)\n",
    "\n",
    "# Eliminar la columna auxiliar.\n",
    "reviews_df = reviews_df.drop('reviewText_str', axis=1)\n",
    "\n",
    "\n",
    "# Eliminar filas duplicadas.\n",
    "\n",
    "reviews_df = reviews_df.drop_duplicates(['reviewText'])"
   ]
  },
  {
   "cell_type": "code",
   "execution_count": 111,
   "metadata": {},
   "outputs": [
    {
     "data": {
      "text/plain": [
       "5    102930\n",
       "4      7392\n",
       "1      7016\n",
       "3      2782\n",
       "2      1616\n",
       "Name: overall, dtype: int64"
      ]
     },
     "execution_count": 111,
     "metadata": {},
     "output_type": "execute_result"
    },
    {
     "data": {
      "image/png": "[encoded data removed]",
      "text/plain": [
       "<Figure size 640x480 with 1 Axes>"
      ]
     },
     "metadata": {},
     "output_type": "display_data"
    }
   ],
   "source": [
    "# Create a bar plot of the number of reviews for each rating with a color for each rating using seaborn. Sort the values in descending order.\n",
    "\n",
    "sns.countplot(x='overall', data=reviews_df, order=reviews_df['overall'].value_counts().index)\n",
    "\n",
    "#Add the exact number of reviews for each rating on top of each bar.\n",
    "\n",
    "for index, row in reviews_df['overall'].value_counts().reset_index().iterrows():\n",
    "\n",
    "    plt.text(row.name,row.overall, row.overall, color='black', ha=\"center\")\n",
    "\n",
    "# Add a title and labels.\n",
    "\n",
    "plt.title('Numero de reseñas por valoración', fontsize=20)\n",
    "\n",
    "# Print the number of reviews for each rating.\n",
    "\n",
    "reviews_df['overall'].value_counts()"
   ]
  },
  {
   "attachments": {},
   "cell_type": "markdown",
   "metadata": {},
   "source": [
    "Una vez importados las reviews, procedemos a quedarnos unicamente con el texto y la puntuación."
   ]
  },
  {
   "cell_type": "code",
   "execution_count": 112,
   "metadata": {},
   "outputs": [
    {
     "data": {
      "text/html": [
       "<div>\n",
       "<style scoped>\n",
       "    .dataframe tbody tr th:only-of-type {\n",
       "        vertical-align: middle;\n",
       "    }\n",
       "\n",
       "    .dataframe tbody tr th {\n",
       "        vertical-align: top;\n",
       "    }\n",
       "\n",
       "    .dataframe thead th {\n",
       "        text-align: right;\n",
       "    }\n",
       "</style>\n",
       "<table border=\"1\" class=\"dataframe\">\n",
       "  <thead>\n",
       "    <tr style=\"text-align: right;\">\n",
       "      <th></th>\n",
       "      <th>reviewText</th>\n",
       "      <th>overall</th>\n",
       "    </tr>\n",
       "  </thead>\n",
       "  <tbody>\n",
       "    <tr>\n",
       "      <th>0</th>\n",
       "      <td>Amazon,\\nI am shopping for Amazon.com gift car...</td>\n",
       "      <td>1</td>\n",
       "    </tr>\n",
       "    <tr>\n",
       "      <th>1</th>\n",
       "      <td>I got this gift card from a friend, and it was...</td>\n",
       "      <td>5</td>\n",
       "    </tr>\n",
       "    <tr>\n",
       "      <th>2</th>\n",
       "      <td>aren't we going to save trees?! :) People who ...</td>\n",
       "      <td>5</td>\n",
       "    </tr>\n",
       "    <tr>\n",
       "      <th>3</th>\n",
       "      <td>You can always get someone something from Amaz...</td>\n",
       "      <td>5</td>\n",
       "    </tr>\n",
       "    <tr>\n",
       "      <th>4</th>\n",
       "      <td>Why take 50 dollars of good money with no limi...</td>\n",
       "      <td>1</td>\n",
       "    </tr>\n",
       "  </tbody>\n",
       "</table>\n",
       "</div>"
      ],
      "text/plain": [
       "                                          reviewText  overall\n",
       "0  Amazon,\\nI am shopping for Amazon.com gift car...        1\n",
       "1  I got this gift card from a friend, and it was...        5\n",
       "2  aren't we going to save trees?! :) People who ...        5\n",
       "3  You can always get someone something from Amaz...        5\n",
       "4  Why take 50 dollars of good money with no limi...        1"
      ]
     },
     "execution_count": 112,
     "metadata": {},
     "output_type": "execute_result"
    }
   ],
   "source": [
    "# Select the column with text.\n",
    "\n",
    "review_gifts = reviews_df[['reviewText', 'overall']]\n",
    "\n",
    "# Display first 5 rows\n",
    "\n",
    "review_gifts.head()"
   ]
  },
  {
   "attachments": {},
   "cell_type": "markdown",
   "metadata": {},
   "source": [
    "# <a name=\"tokenizacion\"> 3. Procesamiento de Lenguaje Natural <a>"
   ]
  },
  {
   "attachments": {},
   "cell_type": "markdown",
   "metadata": {},
   "source": [
    "La tokenización de palabras es un proceso clave en el análisis de sentimiento de valoración de las reviews. Consiste en dividir un texto en palabras individuales para poder analizarlas de manera más efectiva.\n",
    "\n",
    "La tokenización permite también la eliminación de palabras irrelevantes o stop words que no aportan información valiosa al análisis de sentimiento, lo que mejora la precisión de los resultados."
   ]
  },
  {
   "attachments": {},
   "cell_type": "markdown",
   "metadata": {},
   "source": [
    "### 3.1 Conversión a lowercase\n"
   ]
  },
  {
   "cell_type": "code",
   "execution_count": 113,
   "metadata": {},
   "outputs": [
    {
     "name": "stderr",
     "output_type": "stream",
     "text": [
      "C:\\Users\\vvict\\AppData\\Local\\Temp\\ipykernel_5452\\446667694.py:3: SettingWithCopyWarning: \n",
      "A value is trying to be set on a copy of a slice from a DataFrame.\n",
      "Try using .loc[row_indexer,col_indexer] = value instead\n",
      "\n",
      "See the caveats in the documentation: https://pandas.pydata.org/pandas-docs/stable/user_guide/indexing.html#returning-a-view-versus-a-copy\n",
      "  review_gifts['reviewText'] = review_gifts['reviewText'].str.lower()\n"
     ]
    },
    {
     "data": {
      "text/html": [
       "<div>\n",
       "<style scoped>\n",
       "    .dataframe tbody tr th:only-of-type {\n",
       "        vertical-align: middle;\n",
       "    }\n",
       "\n",
       "    .dataframe tbody tr th {\n",
       "        vertical-align: top;\n",
       "    }\n",
       "\n",
       "    .dataframe thead th {\n",
       "        text-align: right;\n",
       "    }\n",
       "</style>\n",
       "<table border=\"1\" class=\"dataframe\">\n",
       "  <thead>\n",
       "    <tr style=\"text-align: right;\">\n",
       "      <th></th>\n",
       "      <th>reviewText</th>\n",
       "      <th>overall</th>\n",
       "    </tr>\n",
       "  </thead>\n",
       "  <tbody>\n",
       "    <tr>\n",
       "      <th>0</th>\n",
       "      <td>amazon,\\ni am shopping for amazon.com gift car...</td>\n",
       "      <td>1</td>\n",
       "    </tr>\n",
       "    <tr>\n",
       "      <th>1</th>\n",
       "      <td>i got this gift card from a friend, and it was...</td>\n",
       "      <td>5</td>\n",
       "    </tr>\n",
       "    <tr>\n",
       "      <th>2</th>\n",
       "      <td>aren't we going to save trees?! :) people who ...</td>\n",
       "      <td>5</td>\n",
       "    </tr>\n",
       "    <tr>\n",
       "      <th>3</th>\n",
       "      <td>you can always get someone something from amaz...</td>\n",
       "      <td>5</td>\n",
       "    </tr>\n",
       "    <tr>\n",
       "      <th>4</th>\n",
       "      <td>why take 50 dollars of good money with no limi...</td>\n",
       "      <td>1</td>\n",
       "    </tr>\n",
       "  </tbody>\n",
       "</table>\n",
       "</div>"
      ],
      "text/plain": [
       "                                          reviewText  overall\n",
       "0  amazon,\\ni am shopping for amazon.com gift car...        1\n",
       "1  i got this gift card from a friend, and it was...        5\n",
       "2  aren't we going to save trees?! :) people who ...        5\n",
       "3  you can always get someone something from amaz...        5\n",
       "4  why take 50 dollars of good money with no limi...        1"
      ]
     },
     "execution_count": 113,
     "metadata": {},
     "output_type": "execute_result"
    }
   ],
   "source": [
    "# Convert the text column to lowercase.\n",
    "\n",
    "review_gifts['reviewText'] = review_gifts['reviewText'].str.lower()\n",
    "\n",
    "# Display first 5 rows\n",
    "\n",
    "review_gifts.head()"
   ]
  },
  {
   "attachments": {},
   "cell_type": "markdown",
   "metadata": {},
   "source": [
    "### 3.2 Borrado de emoticonos\n"
   ]
  },
  {
   "cell_type": "code",
   "execution_count": 114,
   "metadata": {},
   "outputs": [
    {
     "name": "stderr",
     "output_type": "stream",
     "text": [
      "C:\\Users\\vvict\\AppData\\Local\\Temp\\ipykernel_5452\\897799424.py:3: FutureWarning: The default value of regex will change from True to False in a future version.\n",
      "  review_gifts['reviewText'] = review_gifts['reviewText'].str.replace('[\\:\\;\\=][\\-\\^]?[\\(\\)\\[\\]\\{\\}\\@D\\|Pp\\$\\*\\+\\#]','')\n",
      "C:\\Users\\vvict\\AppData\\Local\\Temp\\ipykernel_5452\\897799424.py:3: SettingWithCopyWarning: \n",
      "A value is trying to be set on a copy of a slice from a DataFrame.\n",
      "Try using .loc[row_indexer,col_indexer] = value instead\n",
      "\n",
      "See the caveats in the documentation: https://pandas.pydata.org/pandas-docs/stable/user_guide/indexing.html#returning-a-view-versus-a-copy\n",
      "  review_gifts['reviewText'] = review_gifts['reviewText'].str.replace('[\\:\\;\\=][\\-\\^]?[\\(\\)\\[\\]\\{\\}\\@D\\|Pp\\$\\*\\+\\#]','')\n"
     ]
    },
    {
     "data": {
      "text/html": [
       "<div>\n",
       "<style scoped>\n",
       "    .dataframe tbody tr th:only-of-type {\n",
       "        vertical-align: middle;\n",
       "    }\n",
       "\n",
       "    .dataframe tbody tr th {\n",
       "        vertical-align: top;\n",
       "    }\n",
       "\n",
       "    .dataframe thead th {\n",
       "        text-align: right;\n",
       "    }\n",
       "</style>\n",
       "<table border=\"1\" class=\"dataframe\">\n",
       "  <thead>\n",
       "    <tr style=\"text-align: right;\">\n",
       "      <th></th>\n",
       "      <th>reviewText</th>\n",
       "      <th>overall</th>\n",
       "    </tr>\n",
       "  </thead>\n",
       "  <tbody>\n",
       "    <tr>\n",
       "      <th>0</th>\n",
       "      <td>amazon,\\ni am shopping for amazon.com gift car...</td>\n",
       "      <td>1</td>\n",
       "    </tr>\n",
       "    <tr>\n",
       "      <th>1</th>\n",
       "      <td>i got this gift card from a friend, and it was...</td>\n",
       "      <td>5</td>\n",
       "    </tr>\n",
       "    <tr>\n",
       "      <th>2</th>\n",
       "      <td>aren't we going to save trees?!  people who we...</td>\n",
       "      <td>5</td>\n",
       "    </tr>\n",
       "    <tr>\n",
       "      <th>3</th>\n",
       "      <td>you can always get someone something from amaz...</td>\n",
       "      <td>5</td>\n",
       "    </tr>\n",
       "    <tr>\n",
       "      <th>4</th>\n",
       "      <td>why take 50 dollars of good money with no limi...</td>\n",
       "      <td>1</td>\n",
       "    </tr>\n",
       "  </tbody>\n",
       "</table>\n",
       "</div>"
      ],
      "text/plain": [
       "                                          reviewText  overall\n",
       "0  amazon,\\ni am shopping for amazon.com gift car...        1\n",
       "1  i got this gift card from a friend, and it was...        5\n",
       "2  aren't we going to save trees?!  people who we...        5\n",
       "3  you can always get someone something from amaz...        5\n",
       "4  why take 50 dollars of good money with no limi...        1"
      ]
     },
     "execution_count": 114,
     "metadata": {},
     "output_type": "execute_result"
    }
   ],
   "source": [
    "# Delete emoticons with text.\n",
    "\n",
    "review_gifts['reviewText'] = review_gifts['reviewText'].str.replace('[\\:\\;\\=][\\-\\^]?[\\(\\)\\[\\]\\{\\}\\@D\\|Pp\\$\\*\\+\\#]','')\n",
    "\n",
    "# Display first 5 rows\n",
    "\n",
    "review_gifts.head()"
   ]
  },
  {
   "attachments": {},
   "cell_type": "markdown",
   "metadata": {},
   "source": [
    "### 3.3 Borrado de signos de puntuación y saltos de texto\n"
   ]
  },
  {
   "cell_type": "code",
   "execution_count": 115,
   "metadata": {},
   "outputs": [
    {
     "name": "stderr",
     "output_type": "stream",
     "text": [
      "C:\\Users\\vvict\\AppData\\Local\\Temp\\ipykernel_5452\\1247172740.py:3: FutureWarning: The default value of regex will change from True to False in a future version.\n",
      "  review_gifts['reviewText'] = review_gifts['reviewText'].str.replace('[^\\w\\s]','')\n",
      "C:\\Users\\vvict\\AppData\\Local\\Temp\\ipykernel_5452\\1247172740.py:3: SettingWithCopyWarning: \n",
      "A value is trying to be set on a copy of a slice from a DataFrame.\n",
      "Try using .loc[row_indexer,col_indexer] = value instead\n",
      "\n",
      "See the caveats in the documentation: https://pandas.pydata.org/pandas-docs/stable/user_guide/indexing.html#returning-a-view-versus-a-copy\n",
      "  review_gifts['reviewText'] = review_gifts['reviewText'].str.replace('[^\\w\\s]','')\n"
     ]
    },
    {
     "data": {
      "text/html": [
       "<div>\n",
       "<style scoped>\n",
       "    .dataframe tbody tr th:only-of-type {\n",
       "        vertical-align: middle;\n",
       "    }\n",
       "\n",
       "    .dataframe tbody tr th {\n",
       "        vertical-align: top;\n",
       "    }\n",
       "\n",
       "    .dataframe thead th {\n",
       "        text-align: right;\n",
       "    }\n",
       "</style>\n",
       "<table border=\"1\" class=\"dataframe\">\n",
       "  <thead>\n",
       "    <tr style=\"text-align: right;\">\n",
       "      <th></th>\n",
       "      <th>reviewText</th>\n",
       "      <th>overall</th>\n",
       "    </tr>\n",
       "  </thead>\n",
       "  <tbody>\n",
       "    <tr>\n",
       "      <th>0</th>\n",
       "      <td>amazon\\ni am shopping for amazoncom gift cards...</td>\n",
       "      <td>1</td>\n",
       "    </tr>\n",
       "    <tr>\n",
       "      <th>1</th>\n",
       "      <td>i got this gift card from a friend and it was ...</td>\n",
       "      <td>5</td>\n",
       "    </tr>\n",
       "    <tr>\n",
       "      <th>2</th>\n",
       "      <td>arent we going to save trees  people who were ...</td>\n",
       "      <td>5</td>\n",
       "    </tr>\n",
       "    <tr>\n",
       "      <th>3</th>\n",
       "      <td>you can always get someone something from amaz...</td>\n",
       "      <td>5</td>\n",
       "    </tr>\n",
       "    <tr>\n",
       "      <th>4</th>\n",
       "      <td>why take 50 dollars of good money with no limi...</td>\n",
       "      <td>1</td>\n",
       "    </tr>\n",
       "  </tbody>\n",
       "</table>\n",
       "</div>"
      ],
      "text/plain": [
       "                                          reviewText  overall\n",
       "0  amazon\\ni am shopping for amazoncom gift cards...        1\n",
       "1  i got this gift card from a friend and it was ...        5\n",
       "2  arent we going to save trees  people who were ...        5\n",
       "3  you can always get someone something from amaz...        5\n",
       "4  why take 50 dollars of good money with no limi...        1"
      ]
     },
     "execution_count": 115,
     "metadata": {},
     "output_type": "execute_result"
    }
   ],
   "source": [
    "# Delete punctuation signs.\n",
    "\n",
    "review_gifts['reviewText'] = review_gifts['reviewText'].str.replace('[^\\w\\s]','')\n",
    "\n",
    "# Display first 5 rows\n",
    "\n",
    "review_gifts.head()"
   ]
  },
  {
   "cell_type": "code",
   "execution_count": 116,
   "metadata": {},
   "outputs": [
    {
     "name": "stderr",
     "output_type": "stream",
     "text": [
      "C:\\Users\\vvict\\AppData\\Local\\Temp\\ipykernel_5452\\551323076.py:3: SettingWithCopyWarning: \n",
      "A value is trying to be set on a copy of a slice from a DataFrame.\n",
      "Try using .loc[row_indexer,col_indexer] = value instead\n",
      "\n",
      "See the caveats in the documentation: https://pandas.pydata.org/pandas-docs/stable/user_guide/indexing.html#returning-a-view-versus-a-copy\n",
      "  review_gifts['reviewText'] = review_gifts['reviewText'].str.replace('\\n',' ')\n"
     ]
    },
    {
     "data": {
      "text/html": [
       "<div>\n",
       "<style scoped>\n",
       "    .dataframe tbody tr th:only-of-type {\n",
       "        vertical-align: middle;\n",
       "    }\n",
       "\n",
       "    .dataframe tbody tr th {\n",
       "        vertical-align: top;\n",
       "    }\n",
       "\n",
       "    .dataframe thead th {\n",
       "        text-align: right;\n",
       "    }\n",
       "</style>\n",
       "<table border=\"1\" class=\"dataframe\">\n",
       "  <thead>\n",
       "    <tr style=\"text-align: right;\">\n",
       "      <th></th>\n",
       "      <th>reviewText</th>\n",
       "      <th>overall</th>\n",
       "    </tr>\n",
       "  </thead>\n",
       "  <tbody>\n",
       "    <tr>\n",
       "      <th>0</th>\n",
       "      <td>amazon i am shopping for amazoncom gift cards ...</td>\n",
       "      <td>1</td>\n",
       "    </tr>\n",
       "    <tr>\n",
       "      <th>1</th>\n",
       "      <td>i got this gift card from a friend and it was ...</td>\n",
       "      <td>5</td>\n",
       "    </tr>\n",
       "    <tr>\n",
       "      <th>2</th>\n",
       "      <td>arent we going to save trees  people who were ...</td>\n",
       "      <td>5</td>\n",
       "    </tr>\n",
       "    <tr>\n",
       "      <th>3</th>\n",
       "      <td>you can always get someone something from amaz...</td>\n",
       "      <td>5</td>\n",
       "    </tr>\n",
       "    <tr>\n",
       "      <th>4</th>\n",
       "      <td>why take 50 dollars of good money with no limi...</td>\n",
       "      <td>1</td>\n",
       "    </tr>\n",
       "  </tbody>\n",
       "</table>\n",
       "</div>"
      ],
      "text/plain": [
       "                                          reviewText  overall\n",
       "0  amazon i am shopping for amazoncom gift cards ...        1\n",
       "1  i got this gift card from a friend and it was ...        5\n",
       "2  arent we going to save trees  people who were ...        5\n",
       "3  you can always get someone something from amaz...        5\n",
       "4  why take 50 dollars of good money with no limi...        1"
      ]
     },
     "execution_count": 116,
     "metadata": {},
     "output_type": "execute_result"
    }
   ],
   "source": [
    "# Delete /n from text.\n",
    "\n",
    "review_gifts['reviewText'] = review_gifts['reviewText'].str.replace('\\n',' ')\n",
    "\n",
    "# Display first 5 rows\n",
    "\n",
    "review_gifts.head()"
   ]
  },
  {
   "attachments": {},
   "cell_type": "markdown",
   "metadata": {},
   "source": [
    "### 3.4 Tokenización y supresión de stopwords\n"
   ]
  },
  {
   "cell_type": "code",
   "execution_count": 117,
   "metadata": {},
   "outputs": [
    {
     "name": "stderr",
     "output_type": "stream",
     "text": [
      "C:\\Users\\vvict\\AppData\\Local\\Temp\\ipykernel_5452\\4180211318.py:3: SettingWithCopyWarning: \n",
      "A value is trying to be set on a copy of a slice from a DataFrame.\n",
      "Try using .loc[row_indexer,col_indexer] = value instead\n",
      "\n",
      "See the caveats in the documentation: https://pandas.pydata.org/pandas-docs/stable/user_guide/indexing.html#returning-a-view-versus-a-copy\n",
      "  review_gifts['reviewText'] = review_gifts['reviewText'].astype(str)\n",
      "C:\\Users\\vvict\\AppData\\Local\\Temp\\ipykernel_5452\\4180211318.py:7: SettingWithCopyWarning: \n",
      "A value is trying to be set on a copy of a slice from a DataFrame.\n",
      "Try using .loc[row_indexer,col_indexer] = value instead\n",
      "\n",
      "See the caveats in the documentation: https://pandas.pydata.org/pandas-docs/stable/user_guide/indexing.html#returning-a-view-versus-a-copy\n",
      "  review_gifts['reviewText'] = review_gifts['reviewText'].apply(nltk.word_tokenize)\n"
     ]
    },
    {
     "data": {
      "text/html": [
       "<div>\n",
       "<style scoped>\n",
       "    .dataframe tbody tr th:only-of-type {\n",
       "        vertical-align: middle;\n",
       "    }\n",
       "\n",
       "    .dataframe tbody tr th {\n",
       "        vertical-align: top;\n",
       "    }\n",
       "\n",
       "    .dataframe thead th {\n",
       "        text-align: right;\n",
       "    }\n",
       "</style>\n",
       "<table border=\"1\" class=\"dataframe\">\n",
       "  <thead>\n",
       "    <tr style=\"text-align: right;\">\n",
       "      <th></th>\n",
       "      <th>reviewText</th>\n",
       "      <th>overall</th>\n",
       "    </tr>\n",
       "  </thead>\n",
       "  <tbody>\n",
       "    <tr>\n",
       "      <th>0</th>\n",
       "      <td>[amazon, i, am, shopping, for, amazoncom, gift...</td>\n",
       "      <td>1</td>\n",
       "    </tr>\n",
       "    <tr>\n",
       "      <th>1</th>\n",
       "      <td>[i, got, this, gift, card, from, a, friend, an...</td>\n",
       "      <td>5</td>\n",
       "    </tr>\n",
       "    <tr>\n",
       "      <th>2</th>\n",
       "      <td>[arent, we, going, to, save, trees, people, wh...</td>\n",
       "      <td>5</td>\n",
       "    </tr>\n",
       "    <tr>\n",
       "      <th>3</th>\n",
       "      <td>[you, can, always, get, someone, something, fr...</td>\n",
       "      <td>5</td>\n",
       "    </tr>\n",
       "    <tr>\n",
       "      <th>4</th>\n",
       "      <td>[why, take, 50, dollars, of, good, money, with...</td>\n",
       "      <td>1</td>\n",
       "    </tr>\n",
       "  </tbody>\n",
       "</table>\n",
       "</div>"
      ],
      "text/plain": [
       "                                          reviewText  overall\n",
       "0  [amazon, i, am, shopping, for, amazoncom, gift...        1\n",
       "1  [i, got, this, gift, card, from, a, friend, an...        5\n",
       "2  [arent, we, going, to, save, trees, people, wh...        5\n",
       "3  [you, can, always, get, someone, something, fr...        5\n",
       "4  [why, take, 50, dollars, of, good, money, with...        1"
      ]
     },
     "execution_count": 117,
     "metadata": {},
     "output_type": "execute_result"
    }
   ],
   "source": [
    "# Convert the reviewText column to string.\n",
    "\n",
    "review_gifts['reviewText'] = review_gifts['reviewText'].astype(str)\n",
    "\n",
    "# Tokenize the text.\n",
    "\n",
    "review_gifts['reviewText'] = review_gifts['reviewText'].apply(nltk.word_tokenize)\n",
    "\n",
    "# Display first 5 rows\n",
    "\n",
    "review_gifts.head()"
   ]
  },
  {
   "cell_type": "code",
   "execution_count": 118,
   "metadata": {},
   "outputs": [
    {
     "name": "stderr",
     "output_type": "stream",
     "text": [
      "C:\\Users\\vvict\\AppData\\Local\\Temp\\ipykernel_5452\\3866913559.py:5: SettingWithCopyWarning: \n",
      "A value is trying to be set on a copy of a slice from a DataFrame.\n",
      "Try using .loc[row_indexer,col_indexer] = value instead\n",
      "\n",
      "See the caveats in the documentation: https://pandas.pydata.org/pandas-docs/stable/user_guide/indexing.html#returning-a-view-versus-a-copy\n",
      "  review_gifts['reviewText'] = review_gifts['reviewText'].apply(lambda x: [item for item in x if item not in stop_words])\n"
     ]
    },
    {
     "data": {
      "text/html": [
       "<div>\n",
       "<style scoped>\n",
       "    .dataframe tbody tr th:only-of-type {\n",
       "        vertical-align: middle;\n",
       "    }\n",
       "\n",
       "    .dataframe tbody tr th {\n",
       "        vertical-align: top;\n",
       "    }\n",
       "\n",
       "    .dataframe thead th {\n",
       "        text-align: right;\n",
       "    }\n",
       "</style>\n",
       "<table border=\"1\" class=\"dataframe\">\n",
       "  <thead>\n",
       "    <tr style=\"text-align: right;\">\n",
       "      <th></th>\n",
       "      <th>reviewText</th>\n",
       "      <th>overall</th>\n",
       "    </tr>\n",
       "  </thead>\n",
       "  <tbody>\n",
       "    <tr>\n",
       "      <th>0</th>\n",
       "      <td>[amazon, shopping, amazoncom, gift, cards, chr...</td>\n",
       "      <td>1</td>\n",
       "    </tr>\n",
       "    <tr>\n",
       "      <th>1</th>\n",
       "      <td>[got, gift, card, friend, best, site, much, ch...</td>\n",
       "      <td>5</td>\n",
       "    </tr>\n",
       "    <tr>\n",
       "      <th>2</th>\n",
       "      <td>[arent, going, save, trees, people, complainin...</td>\n",
       "      <td>5</td>\n",
       "    </tr>\n",
       "    <tr>\n",
       "      <th>3</th>\n",
       "      <td>[always, get, someone, something, amazon, safe...</td>\n",
       "      <td>5</td>\n",
       "    </tr>\n",
       "    <tr>\n",
       "      <th>4</th>\n",
       "      <td>[take, 50, dollars, good, money, limitations, ...</td>\n",
       "      <td>1</td>\n",
       "    </tr>\n",
       "  </tbody>\n",
       "</table>\n",
       "</div>"
      ],
      "text/plain": [
       "                                          reviewText  overall\n",
       "0  [amazon, shopping, amazoncom, gift, cards, chr...        1\n",
       "1  [got, gift, card, friend, best, site, much, ch...        5\n",
       "2  [arent, going, save, trees, people, complainin...        5\n",
       "3  [always, get, someone, something, amazon, safe...        5\n",
       "4  [take, 50, dollars, good, money, limitations, ...        1"
      ]
     },
     "execution_count": 118,
     "metadata": {},
     "output_type": "execute_result"
    }
   ],
   "source": [
    "# Delete the stopwords from text.\n",
    "\n",
    "stop_words = set(stopwords.words('english'))\n",
    "\n",
    "review_gifts['reviewText'] = review_gifts['reviewText'].apply(lambda x: [item for item in x if item not in stop_words])\n",
    "\n",
    "# Display first 5 rows\n",
    "\n",
    "review_gifts.head()"
   ]
  },
  {
   "cell_type": "code",
   "execution_count": 119,
   "metadata": {},
   "outputs": [
    {
     "name": "stderr",
     "output_type": "stream",
     "text": [
      "C:\\Users\\vvict\\AppData\\Local\\Temp\\ipykernel_5452\\339394713.py:3: SettingWithCopyWarning: \n",
      "A value is trying to be set on a copy of a slice from a DataFrame.\n",
      "Try using .loc[row_indexer,col_indexer] = value instead\n",
      "\n",
      "See the caveats in the documentation: https://pandas.pydata.org/pandas-docs/stable/user_guide/indexing.html#returning-a-view-versus-a-copy\n",
      "  review_gifts['reviewText'] = review_gifts['reviewText'].apply(lambda x: ' '.join(x))\n"
     ]
    },
    {
     "data": {
      "text/html": [
       "<div>\n",
       "<style scoped>\n",
       "    .dataframe tbody tr th:only-of-type {\n",
       "        vertical-align: middle;\n",
       "    }\n",
       "\n",
       "    .dataframe tbody tr th {\n",
       "        vertical-align: top;\n",
       "    }\n",
       "\n",
       "    .dataframe thead th {\n",
       "        text-align: right;\n",
       "    }\n",
       "</style>\n",
       "<table border=\"1\" class=\"dataframe\">\n",
       "  <thead>\n",
       "    <tr style=\"text-align: right;\">\n",
       "      <th></th>\n",
       "      <th>reviewText</th>\n",
       "      <th>overall</th>\n",
       "    </tr>\n",
       "  </thead>\n",
       "  <tbody>\n",
       "    <tr>\n",
       "      <th>0</th>\n",
       "      <td>amazon shopping amazoncom gift cards christmas...</td>\n",
       "      <td>1</td>\n",
       "    </tr>\n",
       "    <tr>\n",
       "      <th>1</th>\n",
       "      <td>got gift card friend best site much choose gre...</td>\n",
       "      <td>5</td>\n",
       "    </tr>\n",
       "    <tr>\n",
       "      <th>2</th>\n",
       "      <td>arent going save trees people complaining pape...</td>\n",
       "      <td>5</td>\n",
       "    </tr>\n",
       "    <tr>\n",
       "      <th>3</th>\n",
       "      <td>always get someone something amazon safety net...</td>\n",
       "      <td>5</td>\n",
       "    </tr>\n",
       "    <tr>\n",
       "      <th>4</th>\n",
       "      <td>take 50 dollars good money limitations turn am...</td>\n",
       "      <td>1</td>\n",
       "    </tr>\n",
       "  </tbody>\n",
       "</table>\n",
       "</div>"
      ],
      "text/plain": [
       "                                          reviewText  overall\n",
       "0  amazon shopping amazoncom gift cards christmas...        1\n",
       "1  got gift card friend best site much choose gre...        5\n",
       "2  arent going save trees people complaining pape...        5\n",
       "3  always get someone something amazon safety net...        5\n",
       "4  take 50 dollars good money limitations turn am...        1"
      ]
     },
     "execution_count": 119,
     "metadata": {},
     "output_type": "execute_result"
    }
   ],
   "source": [
    "# Convert reviewText column to string with space between words.\n",
    "\n",
    "review_gifts['reviewText'] = review_gifts['reviewText'].apply(lambda x: ' '.join(x))\n",
    "\n",
    "# Display first 5 rows\n",
    "\n",
    "review_gifts.head()"
   ]
  },
  {
   "attachments": {},
   "cell_type": "markdown",
   "metadata": {},
   "source": [
    "# <a name=\"wordcloud\"> 4. Wordcloud e histograma <a>\n"
   ]
  },
  {
   "attachments": {},
   "cell_type": "markdown",
   "metadata": {},
   "source": [
    "Procedemos a analizar en un wordcloud y en un histograma la distribución de las palabras mñas comunes."
   ]
  },
  {
   "cell_type": "code",
   "execution_count": 120,
   "metadata": {},
   "outputs": [
    {
     "data": {
      "image/png": "[encoded data removed]",
      "text/plain": [
       "<Figure size 640x480 with 1 Axes>"
      ]
     },
     "metadata": {},
     "output_type": "display_data"
    }
   ],
   "source": [
    "# Create a wordcloud of the first 100 reviews.\n",
    "\n",
    "wordcloud = WordCloud().generate(str(review_gifts['reviewText']))\n",
    "\n",
    "plt.imshow(wordcloud, interpolation='bilinear')\n",
    "\n",
    "plt.axis(\"off\")\n",
    "\n",
    "plt.show()\n"
   ]
  },
  {
   "cell_type": "code",
   "execution_count": 121,
   "metadata": {},
   "outputs": [
    {
     "data": {
      "image/png": "[encoded data removed]",
      "text/plain": [
       "<Figure size 640x480 with 1 Axes>"
      ]
     },
     "metadata": {},
     "output_type": "display_data"
    }
   ],
   "source": [
    "# Histogram of the top 10 most common words.\n",
    "\n",
    "top_10_words = Counter(\" \".join(review_gifts['reviewText']).split()).most_common(10)\n",
    "\n",
    "top_10_df = pd.DataFrame(top_10_words)\n",
    "\n",
    "top_10_df.columns=[\"Word\", \"Frequency\"]\n",
    "\n",
    "sns.barplot(x=\"Word\", y=\"Frequency\", data=top_10_df)\n",
    "\n",
    "plt.title(\"Top 10 most common words\")\n",
    "\n",
    "plt.xlabel(\"Word\")\n",
    "\n",
    "plt.ylabel(\"Frequency\")\n",
    "\n",
    "plt.xticks(rotation=45)\n",
    "\n",
    "plt.show()\n",
    "\n"
   ]
  },
  {
   "attachments": {},
   "cell_type": "markdown",
   "metadata": {},
   "source": [
    "# <a name=\"exportacion\"> 5. Exportación del DF <a>\n"
   ]
  },
  {
   "attachments": {},
   "cell_type": "markdown",
   "metadata": {},
   "source": [
    "Procedemos a exportar el dataframe ya preprocesado para trabajar con modelos de ML"
   ]
  },
  {
   "cell_type": "code",
   "execution_count": 122,
   "metadata": {},
   "outputs": [],
   "source": [
    "# Export the dataframe to parquet.\n",
    "\n",
    "review_gifts.to_parquet(\"../../data/processed/reviews.parquet\")"
   ]
  }
 ],
 "metadata": {
  "kernelspec": {
   "display_name": "TFM",
   "language": "python",
   "name": "python3"
  },
  "language_info": {
   "codemirror_mode": {
    "name": "ipython",
    "version": 3
   },
   "file_extension": ".py",
   "mimetype": "text/x-python",
   "name": "python",
   "nbconvert_exporter": "python",
   "pygments_lexer": "ipython3",
   "version": "3.9.16"
  },
  "orig_nbformat": 4
 },
 "nbformat": 4,
 "nbformat_minor": 2
}
