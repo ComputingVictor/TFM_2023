{
  "cells": [
    {
      "attachments": {},
      "cell_type": "markdown",
      "metadata": {
        "id": "D1anb1ytuz2k"
      },
      "source": [
        "<a name=\"top\"> <h1>02. Neuronal Networks</h1> <a>\n",
        "\n",
        "<p>Análisis de sentimiento: Tweets<br />\n",
        "<strong>Trabajo de Fin de Master</strong><br />\n",
        "<strong>Master Universitario en Ciencia de Datos</strong></p>\n",
        "\n",
        "\n",
        "<p style=\"text-align:right\">V&iacute;ctor Viloria V&aacute;zquez (<em>victor.viloria@cunef.edu</em>)</p>\n"
      ]
    },
    {
      "attachments": {},
      "cell_type": "markdown",
      "metadata": {
        "id": "MGnWP0EVuz2p"
      },
      "source": [
        "<hr style=\"border:1px solid gray\">"
      ]
    },
    {
      "attachments": {},
      "cell_type": "markdown",
      "metadata": {
        "id": "V-c-ExD8uz2y"
      },
      "source": [
        "### Estructura"
      ]
    },
    {
      "attachments": {},
      "cell_type": "markdown",
      "metadata": {
        "id": "4y506okXuz22"
      },
      "source": [
        "[Introducción](#introduccion) \n",
        "\n",
        "[1. Librerias utilizadas y funciones](#librerias) \n",
        "\n",
        "[2. Lectura del dataframe y preparación de los datos](#lectura) \n",
        "\n",
        "   - 2.1. Lectura del DF\n",
        "   - 2.2. Preparación de los datos\n",
        "\n",
        "[3. Modelo de la red neuronal](#modelo) \n",
        "\n",
        "[4. Backup del modelo](#backup) "
      ]
    },
    {
      "attachments": {},
      "cell_type": "markdown",
      "metadata": {
        "id": "nhcT10vJuz24"
      },
      "source": [
        "<hr style=\"border:1px solid gray\">"
      ]
    },
    {
      "attachments": {},
      "cell_type": "markdown",
      "metadata": {},
      "source": [
        "# <a name=\"introduccion\"> Introducción <a>\n"
      ]
    },
    {
      "attachments": {},
      "cell_type": "markdown",
      "metadata": {},
      "source": [
        "En este tercer notebook, tras haber preprocesado los datos y evaluado diferentes modelos de Machine Learning, exploraremos las redes neuronales con el objetivo de superar los resultados obtenidos en `1_MLModels`\n",
        "\n",
        "Para ello nos ayudaremos principalmente de la libreria TensorFlow, la cual nos permite de una forma secilla, crear arquitecutras de redes neuronales y modificar los hiperparámetros para ajustar el modelo, además de introducir técnicas de regularización.\n",
        "\n",
        "Una vez obtengamos los resultados y seleccionemos aquel que mejor resultado haya arrojado, procederemos a seleccionarlo ya sea de ML o DL, para ponerlo en producción."
      ]
    },
    {
      "attachments": {},
      "cell_type": "markdown",
      "metadata": {
        "id": "_mjKoACXuz25"
      },
      "source": [
        "# <a name=\"librerias\"> 1. Librerias utilizadas y funciones <a>\n"
      ]
    },
    {
      "attachments": {},
      "cell_type": "markdown",
      "metadata": {
        "id": "9JBx12Gsuz26"
      },
      "source": [
        "Importamos las librerias a utilizar para la creación de redes neuronales:"
      ]
    },
    {
      "cell_type": "code",
      "execution_count": 1,
      "metadata": {
        "id": "a3eiEFg5uz3G"
      },
      "outputs": [],
      "source": [
        "# Import basic libraries.\n",
        "\n",
        "import pandas as pd\n",
        "from sklearn.feature_extraction.text import CountVectorizer\n",
        "from sklearn.svm import SVC\n",
        "import numpy as np\n",
        "import string\n",
        "import pickle\n",
        "\n",
        "# Import neural network libraries.\n",
        "\n",
        "import tensorflow as tf\n",
        "from tensorflow.keras.preprocessing.text import Tokenizer\n",
        "from tensorflow.keras.preprocessing.sequence import pad_sequences\n",
        "from sklearn.model_selection import train_test_split\n",
        "from sklearn.metrics import fbeta_score"
      ]
    },
    {
      "attachments": {},
      "cell_type": "markdown",
      "metadata": {
        "id": "U3CG8-gbuz3I"
      },
      "source": [
        "# <a name=\"lectura\"> 2. Lectura del dataframe y preparación de los datos<a>\n"
      ]
    },
    {
      "attachments": {},
      "cell_type": "markdown",
      "metadata": {},
      "source": [
        "## 2.1. Lectura del DF"
      ]
    },
    {
      "cell_type": "code",
      "execution_count": 2,
      "metadata": {
        "colab": {
          "base_uri": "https://localhost:8080/",
          "height": 206
        },
        "id": "PJBg5uE4uz3J",
        "outputId": "0b2e4e2e-c2af-4e74-9bbc-eb0920e4d506"
      },
      "outputs": [
        {
          "data": {
            "text/html": [
              "<div>\n",
              "<style scoped>\n",
              "    .dataframe tbody tr th:only-of-type {\n",
              "        vertical-align: middle;\n",
              "    }\n",
              "\n",
              "    .dataframe tbody tr th {\n",
              "        vertical-align: top;\n",
              "    }\n",
              "\n",
              "    .dataframe thead th {\n",
              "        text-align: right;\n",
              "    }\n",
              "</style>\n",
              "<table border=\"1\" class=\"dataframe\">\n",
              "  <thead>\n",
              "    <tr style=\"text-align: right;\">\n",
              "      <th></th>\n",
              "      <th>reviewText</th>\n",
              "      <th>overall</th>\n",
              "    </tr>\n",
              "  </thead>\n",
              "  <tbody>\n",
              "    <tr>\n",
              "      <th>0</th>\n",
              "      <td>amazon shopping amazoncom gift cards christmas...</td>\n",
              "      <td>1</td>\n",
              "    </tr>\n",
              "    <tr>\n",
              "      <th>1</th>\n",
              "      <td>got gift card friend best site much choose gre...</td>\n",
              "      <td>5</td>\n",
              "    </tr>\n",
              "    <tr>\n",
              "      <th>2</th>\n",
              "      <td>arent going save trees people complaining pape...</td>\n",
              "      <td>5</td>\n",
              "    </tr>\n",
              "    <tr>\n",
              "      <th>3</th>\n",
              "      <td>always get someone something amazon safety net...</td>\n",
              "      <td>5</td>\n",
              "    </tr>\n",
              "    <tr>\n",
              "      <th>4</th>\n",
              "      <td>take 50 dollars good money limitations turn am...</td>\n",
              "      <td>1</td>\n",
              "    </tr>\n",
              "  </tbody>\n",
              "</table>\n",
              "</div>"
            ],
            "text/plain": [
              "                                          reviewText  overall\n",
              "0  amazon shopping amazoncom gift cards christmas...        1\n",
              "1  got gift card friend best site much choose gre...        5\n",
              "2  arent going save trees people complaining pape...        5\n",
              "3  always get someone something amazon safety net...        5\n",
              "4  take 50 dollars good money limitations turn am...        1"
            ]
          },
          "execution_count": 2,
          "metadata": {},
          "output_type": "execute_result"
        }
      ],
      "source": [
        "#Import parquet file.\n",
        "\n",
        "reviews = pd.read_parquet('../../data/processed/reviews.parquet')\n",
        "\n",
        "# Show the head of the dataframe.\n",
        "\n",
        "reviews.head()"
      ]
    },
    {
      "attachments": {},
      "cell_type": "markdown",
      "metadata": {
        "id": "Dodel_Vsuz3T"
      },
      "source": [
        "## 2.2. Preparación de los datos"
      ]
    },
    {
      "attachments": {},
      "cell_type": "markdown",
      "metadata": {},
      "source": [
        "Al igual que en el notebook anterior, preparamos los datos para que puedan ser introducidos dentro de los modelos, separando en X el texto y en y las puntuaciones. Y modificando el formato para que puedan ser introducidos dentro de la red."
      ]
    },
    {
      "cell_type": "code",
      "execution_count": 15,
      "metadata": {
        "id": "qTJuSounuz3U"
      },
      "outputs": [],
      "source": [
        "# Define the X and y variables.\n",
        "\n",
        "X = reviews['reviewText'].values\n",
        "y = reviews['overall'].values\n",
        "\n",
        "# Modify the y variable to be a categorical variable.\n",
        "\n",
        "y = tf.keras.utils.to_categorical(y-1, num_classes=5)\n",
        "\n",
        "# Split the data into train and test sets.\n",
        "\n",
        "X_train, X_test, y_train, y_test = train_test_split(X, y, test_size=0.2, random_state=1234)\n",
        "\n",
        "# Define the tokenizer.\n",
        "\n",
        "tokenizer = Tokenizer(num_words=10000)\n",
        "\n",
        "# Fit the tokenizer.\n",
        "\n",
        "tokenizer.fit_on_texts(X_train)\n",
        "\n",
        "# Transform the train and test sets.\n",
        "\n",
        "X_train = tokenizer.texts_to_sequences(X_train)\n",
        "X_test = tokenizer.texts_to_sequences(X_test)\n",
        "\n",
        "# Add padding to the train and test sets.\n",
        "\n",
        "vocab_size = len(tokenizer.word_index) + 1\n",
        "\n",
        "maxlen = 300\n",
        "\n",
        "X_train = pad_sequences(X_train, padding='post', maxlen=maxlen)\n",
        "X_test = pad_sequences(X_test, padding='post', maxlen=maxlen)\n",
        "\n"
      ]
    },
    {
      "cell_type": "code",
      "execution_count": 4,
      "metadata": {},
      "outputs": [],
      "source": [
        "# Dividir los datos en características y etiquetas\n",
        "X = reviews['reviewText'].values\n",
        "y = reviews['overall'].values\n",
        "y = tf.keras.utils.to_categorical(y)  # Convertir los valores numéricos a representación categórica (one-hot encoding)\n",
        "\n",
        "# División de datos en conjunto de entrenamiento y prueba\n",
        "X_train, X_test, y_train, y_test = train_test_split(X, y, test_size=0.2, random_state=42)\n",
        "\n",
        "# Tokenización y secuenciación del texto\n",
        "tokenizer = tf.keras.preprocessing.text.Tokenizer()\n",
        "tokenizer.fit_on_texts(X_train)\n",
        "X_train_seq = tokenizer.texts_to_sequences(X_train)\n",
        "X_test_seq = tokenizer.texts_to_sequences(X_test)\n",
        "\n",
        "# Save the tokenizer.\n",
        "\n",
        "with open('../../models/tokenizer.pickle', 'wb') as handle:\n",
        "    pickle.dump(tokenizer, handle, protocol=pickle.HIGHEST_PROTOCOL)\n",
        "\n",
        "# Ajuste de la longitud de las secuencias (padding)\n",
        "max_sequence_length = 500  # Longitud máxima de una secuencia de palabras\n",
        "X_train_seq = tf.keras.preprocessing.sequence.pad_sequences(X_train_seq, maxlen=max_sequence_length)\n",
        "X_test_seq = tf.keras.preprocessing.sequence.pad_sequences(X_test_seq, maxlen=max_sequence_length)\n",
        "\n",
        "\n"
      ]
    },
    {
      "cell_type": "code",
      "execution_count": 16,
      "metadata": {},
      "outputs": [],
      "source": [
        "# Save the tokenizer in models.\n",
        "\n",
        "with open('../../models/tokenizer.pickle', 'wb') as handle:\n",
        "    pickle.dump(tokenizer, handle, protocol=pickle.HIGHEST_PROTOCOL)\n"
      ]
    },
    {
      "attachments": {},
      "cell_type": "markdown",
      "metadata": {},
      "source": [
        "# <a name=\"modelo\"> 3. Modelo de la red neuronal<a>"
      ]
    },
    {
      "attachments": {},
      "cell_type": "markdown",
      "metadata": {},
      "source": [
        "Tras hacer diferentes pruebas fuera del notebook, ponemos a prueba el que mejor resultado nos ha dado:"
      ]
    },
    {
      "cell_type": "code",
      "execution_count": 5,
      "metadata": {
        "id": "Lhr1sHUYuz3j"
      },
      "outputs": [],
      "source": [
        "# Define the model.\n",
        "\n",
        "model = tf.keras.models.Sequential([\n",
        "    tf.keras.layers.Embedding(input_dim=10000, output_dim=128, input_length=300),\n",
        "    tf.keras.layers.Dropout(0.5),\n",
        "    tf.keras.layers.Conv1D(filters=32, kernel_size=3, padding='same', activation='relu'),\n",
        "    tf.keras.layers.MaxPooling1D(pool_size=2),\n",
        "    tf.keras.layers.LSTM(64),\n",
        "    tf.keras.layers.Dense(5, activation='softmax')\n",
        "])\n",
        "\n",
        "# Compile the model.\n",
        "\n",
        "model.compile(loss='categorical_crossentropy', optimizer='adam', metrics=['accuracy'])"
      ]
    },
    {
      "cell_type": "code",
      "execution_count": null,
      "metadata": {},
      "outputs": [],
      "source": []
    },
    {
      "cell_type": "code",
      "execution_count": 18,
      "metadata": {},
      "outputs": [
        {
          "name": "stdout",
          "output_type": "stream",
          "text": [
            "Model: \"sequential_3\"\n",
            "_________________________________________________________________\n",
            " Layer (type)                Output Shape              Param #   \n",
            "=================================================================\n",
            " embedding_3 (Embedding)     (None, 300, 128)          1280000   \n",
            "                                                                 \n",
            " dropout_2 (Dropout)         (None, 300, 128)          0         \n",
            "                                                                 \n",
            " conv1d_2 (Conv1D)           (None, 300, 32)           12320     \n",
            "                                                                 \n",
            " max_pooling1d_2 (MaxPooling  (None, 150, 32)          0         \n",
            " 1D)                                                             \n",
            "                                                                 \n",
            " lstm_3 (LSTM)               (None, 64)                24832     \n",
            "                                                                 \n",
            " dense_4 (Dense)             (None, 5)                 325       \n",
            "                                                                 \n",
            "=================================================================\n",
            "Total params: 1,317,477\n",
            "Trainable params: 1,317,477\n",
            "Non-trainable params: 0\n",
            "_________________________________________________________________\n"
          ]
        }
      ],
      "source": [
        "# Structure of the model.\n",
        "\n",
        "model.summary()"
      ]
    },
    {
      "cell_type": "code",
      "execution_count": 19,
      "metadata": {
        "colab": {
          "base_uri": "https://localhost:8080/"
        },
        "id": "Wz2jlfUguz3m",
        "outputId": "1e1c145e-3803-44b9-ed32-3427d9443e31"
      },
      "outputs": [
        {
          "name": "stdout",
          "output_type": "stream",
          "text": [
            "Epoch 1/10\n",
            "761/761 [==============================] - 98s 127ms/step - loss: 0.6334 - accuracy: 0.8440 - val_loss: 0.6221 - val_accuracy: 0.8473\n",
            "Epoch 2/10\n",
            "761/761 [==============================] - 95s 125ms/step - loss: 0.6226 - accuracy: 0.8451 - val_loss: 0.6154 - val_accuracy: 0.8473\n",
            "Epoch 3/10\n",
            "761/761 [==============================] - 114s 149ms/step - loss: 0.6223 - accuracy: 0.8451 - val_loss: 0.6156 - val_accuracy: 0.8473\n",
            "Epoch 4/10\n",
            "761/761 [==============================] - 115s 151ms/step - loss: 0.6222 - accuracy: 0.8451 - val_loss: 0.6155 - val_accuracy: 0.8473\n",
            "Epoch 5/10\n",
            "761/761 [==============================] - 111s 145ms/step - loss: 0.6220 - accuracy: 0.8451 - val_loss: 0.6159 - val_accuracy: 0.8473\n",
            "Epoch 6/10\n",
            "761/761 [==============================] - 93s 122ms/step - loss: 0.6220 - accuracy: 0.8451 - val_loss: 0.6160 - val_accuracy: 0.8473\n",
            "Epoch 7/10\n",
            "761/761 [==============================] - 97s 128ms/step - loss: 0.6218 - accuracy: 0.8451 - val_loss: 0.6153 - val_accuracy: 0.8473\n",
            "Epoch 8/10\n",
            "761/761 [==============================] - 111s 146ms/step - loss: 0.6217 - accuracy: 0.8451 - val_loss: 0.6156 - val_accuracy: 0.8472\n",
            "Epoch 9/10\n",
            "761/761 [==============================] - 101s 133ms/step - loss: 0.6293 - accuracy: 0.8434 - val_loss: 0.6155 - val_accuracy: 0.8473\n",
            "Epoch 10/10\n",
            "761/761 [==============================] - 97s 128ms/step - loss: 0.6219 - accuracy: 0.8451 - val_loss: 0.6158 - val_accuracy: 0.8473\n"
          ]
        },
        {
          "data": {
            "text/plain": [
              "<keras.callbacks.History at 0x1fb61646440>"
            ]
          },
          "execution_count": 19,
          "metadata": {},
          "output_type": "execute_result"
        }
      ],
      "source": [
        "# Fit the model.\n",
        "\n",
        "model.fit(X_train, y_train, validation_data=(X_test, y_test), epochs=10, batch_size=128)"
      ]
    },
    {
      "cell_type": "code",
      "execution_count": 20,
      "metadata": {},
      "outputs": [
        {
          "data": {
            "image/png": "[encoded data removed]",
            "text/plain": [
              "<Figure size 640x480 with 1 Axes>"
            ]
          },
          "metadata": {},
          "output_type": "display_data"
        }
      ],
      "source": [
        "# Creat a graph with number of epochs and accuracy in the train and test sets.\n",
        "\n",
        "import matplotlib.pyplot as plt\n",
        "\n",
        "plt.plot(model.history.history['accuracy'])\n",
        "\n",
        "plt.plot(model.history.history['val_accuracy'])\n",
        "\n",
        "plt.title('Model accuracy')\n",
        "\n",
        "plt.ylabel('Accuracy')\n",
        "\n",
        "plt.xlabel('Epoch')\n",
        "\n",
        "plt.legend(['Train', 'Test'], loc='upper left')\n",
        "\n",
        "plt.show()"
      ]
    },
    {
      "cell_type": "code",
      "execution_count": 21,
      "metadata": {},
      "outputs": [
        {
          "name": "stdout",
          "output_type": "stream",
          "text": [
            "761/761 [==============================] - 10s 12ms/step\n"
          ]
        },
        {
          "data": {
            "text/plain": [
              "0.8472564481682273"
            ]
          },
          "execution_count": 21,
          "metadata": {},
          "output_type": "execute_result"
        }
      ],
      "source": [
        "# F2 score\n",
        "\n",
        "fbeta_score(np.argmax(y_test, axis=1), np.argmax(model.predict(X_test), axis=1), average='micro', beta=2)"
      ]
    },
    {
      "attachments": {},
      "cell_type": "markdown",
      "metadata": {},
      "source": [
        "# <a name=\"backup\"> 4. Backup del modelo<a>"
      ]
    },
    {
      "attachments": {},
      "cell_type": "markdown",
      "metadata": {},
      "source": [
        "Dado que es el modelo que mejor resultado nos ha dado, procedemos a guardarlo para posteriormente ponerlo en producción."
      ]
    },
    {
      "cell_type": "code",
      "execution_count": 22,
      "metadata": {
        "id": "4QSIAZH9wU-p"
      },
      "outputs": [],
      "source": [
        "# Guardar el modelo en un archivo\n",
        "model.save(\"../../models/nn_reviews.h5\")"
      ]
    },
    {
      "cell_type": "code",
      "execution_count": 24,
      "metadata": {},
      "outputs": [
        {
          "name": "stdout",
          "output_type": "stream",
          "text": [
            "WARNING:tensorflow:Model was constructed with shape (None, 300) for input KerasTensor(type_spec=TensorSpec(shape=(None, 300), dtype=tf.float32, name='embedding_3_input'), name='embedding_3_input', description=\"created by layer 'embedding_3_input'\"), but it was called on an input with incompatible shape (None, 1).\n"
          ]
        },
        {
          "ename": "ValueError",
          "evalue": "in user code:\n\n    File \"c:\\Users\\e107816\\AppData\\Local\\miniconda3\\lib\\site-packages\\keras\\engine\\training.py\", line 2041, in predict_function  *\n        return step_function(self, iterator)\n    File \"c:\\Users\\e107816\\AppData\\Local\\miniconda3\\lib\\site-packages\\keras\\engine\\training.py\", line 2027, in step_function  **\n        outputs = model.distribute_strategy.run(run_step, args=(data,))\n    File \"c:\\Users\\e107816\\AppData\\Local\\miniconda3\\lib\\site-packages\\keras\\engine\\training.py\", line 2015, in run_step  **\n        outputs = model.predict_step(data)\n    File \"c:\\Users\\e107816\\AppData\\Local\\miniconda3\\lib\\site-packages\\keras\\engine\\training.py\", line 1983, in predict_step\n        return self(x, training=False)\n    File \"c:\\Users\\e107816\\AppData\\Local\\miniconda3\\lib\\site-packages\\keras\\utils\\traceback_utils.py\", line 70, in error_handler\n        raise e.with_traceback(filtered_tb) from None\n    File \"c:\\Users\\e107816\\AppData\\Local\\miniconda3\\lib\\site-packages\\keras\\backend.py\", line 6493, in pool2d\n        x = tf.compat.v1.nn.max_pool(\n\n    ValueError: Exception encountered when calling layer \"max_pooling1d_2\" \"                 f\"(type MaxPooling1D).\n    \n    Negative dimension size caused by subtracting 2 from 1 for '{{node sequential_3/max_pooling1d_2/MaxPool}} = MaxPool[T=DT_FLOAT, data_format=\"NHWC\", explicit_paddings=[], ksize=[1, 2, 1, 1], padding=\"VALID\", strides=[1, 2, 1, 1]](sequential_3/max_pooling1d_2/ExpandDims)' with input shapes: [?,1,1,32].\n    \n    Call arguments received by layer \"max_pooling1d_2\" \"                 f\"(type MaxPooling1D):\n      • inputs=tf.Tensor(shape=(None, 1, 32), dtype=float32)\n",
          "output_type": "error",
          "traceback": [
            "\u001b[1;31m---------------------------------------------------------------------------\u001b[0m",
            "\u001b[1;31mValueError\u001b[0m                                Traceback (most recent call last)",
            "Cell \u001b[1;32mIn[24], line 26\u001b[0m\n\u001b[0;32m     22\u001b[0m X_test_padded \u001b[39m=\u001b[39m pad_sequences(X_test_sequences, maxlen\u001b[39m=\u001b[39m\u001b[39mlen\u001b[39m(X_test_sequences), padding\u001b[39m=\u001b[39m\u001b[39m'\u001b[39m\u001b[39mpost\u001b[39m\u001b[39m'\u001b[39m)\n\u001b[0;32m     24\u001b[0m \u001b[39m# Make predictions\u001b[39;00m\n\u001b[1;32m---> 26\u001b[0m predictions \u001b[39m=\u001b[39m model\u001b[39m.\u001b[39;49mpredict(X_test_padded)\n\u001b[0;32m     28\u001b[0m \u001b[39m# Get the sentiment with the highest probability\u001b[39;00m\n\u001b[0;32m     30\u001b[0m sentiment \u001b[39m=\u001b[39m np\u001b[39m.\u001b[39margmax(predictions)\n",
            "File \u001b[1;32mc:\\Users\\e107816\\AppData\\Local\\miniconda3\\lib\\site-packages\\keras\\utils\\traceback_utils.py:70\u001b[0m, in \u001b[0;36mfilter_traceback.<locals>.error_handler\u001b[1;34m(*args, **kwargs)\u001b[0m\n\u001b[0;32m     67\u001b[0m     filtered_tb \u001b[39m=\u001b[39m _process_traceback_frames(e\u001b[39m.\u001b[39m__traceback__)\n\u001b[0;32m     68\u001b[0m     \u001b[39m# To get the full stack trace, call:\u001b[39;00m\n\u001b[0;32m     69\u001b[0m     \u001b[39m# `tf.debugging.disable_traceback_filtering()`\u001b[39;00m\n\u001b[1;32m---> 70\u001b[0m     \u001b[39mraise\u001b[39;00m e\u001b[39m.\u001b[39mwith_traceback(filtered_tb) \u001b[39mfrom\u001b[39;00m \u001b[39mNone\u001b[39m\n\u001b[0;32m     71\u001b[0m \u001b[39mfinally\u001b[39;00m:\n\u001b[0;32m     72\u001b[0m     \u001b[39mdel\u001b[39;00m filtered_tb\n",
            "File \u001b[1;32m~\\AppData\\Local\\Temp\\__autograph_generated_file8843qdvw.py:15\u001b[0m, in \u001b[0;36mouter_factory.<locals>.inner_factory.<locals>.tf__predict_function\u001b[1;34m(iterator)\u001b[0m\n\u001b[0;32m     13\u001b[0m \u001b[39mtry\u001b[39;00m:\n\u001b[0;32m     14\u001b[0m     do_return \u001b[39m=\u001b[39m \u001b[39mTrue\u001b[39;00m\n\u001b[1;32m---> 15\u001b[0m     retval_ \u001b[39m=\u001b[39m ag__\u001b[39m.\u001b[39mconverted_call(ag__\u001b[39m.\u001b[39mld(step_function), (ag__\u001b[39m.\u001b[39mld(\u001b[39mself\u001b[39m), ag__\u001b[39m.\u001b[39mld(iterator)), \u001b[39mNone\u001b[39;00m, fscope)\n\u001b[0;32m     16\u001b[0m \u001b[39mexcept\u001b[39;00m:\n\u001b[0;32m     17\u001b[0m     do_return \u001b[39m=\u001b[39m \u001b[39mFalse\u001b[39;00m\n",
            "\u001b[1;31mValueError\u001b[0m: in user code:\n\n    File \"c:\\Users\\e107816\\AppData\\Local\\miniconda3\\lib\\site-packages\\keras\\engine\\training.py\", line 2041, in predict_function  *\n        return step_function(self, iterator)\n    File \"c:\\Users\\e107816\\AppData\\Local\\miniconda3\\lib\\site-packages\\keras\\engine\\training.py\", line 2027, in step_function  **\n        outputs = model.distribute_strategy.run(run_step, args=(data,))\n    File \"c:\\Users\\e107816\\AppData\\Local\\miniconda3\\lib\\site-packages\\keras\\engine\\training.py\", line 2015, in run_step  **\n        outputs = model.predict_step(data)\n    File \"c:\\Users\\e107816\\AppData\\Local\\miniconda3\\lib\\site-packages\\keras\\engine\\training.py\", line 1983, in predict_step\n        return self(x, training=False)\n    File \"c:\\Users\\e107816\\AppData\\Local\\miniconda3\\lib\\site-packages\\keras\\utils\\traceback_utils.py\", line 70, in error_handler\n        raise e.with_traceback(filtered_tb) from None\n    File \"c:\\Users\\e107816\\AppData\\Local\\miniconda3\\lib\\site-packages\\keras\\backend.py\", line 6493, in pool2d\n        x = tf.compat.v1.nn.max_pool(\n\n    ValueError: Exception encountered when calling layer \"max_pooling1d_2\" \"                 f\"(type MaxPooling1D).\n    \n    Negative dimension size caused by subtracting 2 from 1 for '{{node sequential_3/max_pooling1d_2/MaxPool}} = MaxPool[T=DT_FLOAT, data_format=\"NHWC\", explicit_paddings=[], ksize=[1, 2, 1, 1], padding=\"VALID\", strides=[1, 2, 1, 1]](sequential_3/max_pooling1d_2/ExpandDims)' with input shapes: [?,1,1,32].\n    \n    Call arguments received by layer \"max_pooling1d_2\" \"                 f\"(type MaxPooling1D):\n      • inputs=tf.Tensor(shape=(None, 1, 32), dtype=float32)\n"
          ]
        }
      ],
      "source": [
        "# Load the model.\n",
        "\n",
        "model = tf.keras.models.load_model('../../models/nn_reviews.h5', compile=False)\n",
        "\n",
        "model.compile(loss='sparse_categorical_crossentropy', optimizer='adam', metrics=['accuracy'])\n",
        "\n",
        "# Load the tokenizer that trained the Neuronal Network.\n",
        "\n",
        "with open('../../models/tokenizer.pickle', 'rb') as handle:\n",
        "    tokenizer = pickle.load(handle)\n",
        "\n",
        "# Predict the class of the review.\n",
        "\n",
        "input_text = \"Horrible\"\n",
        "\n",
        "# Convert the text to sequence of words\n",
        "\n",
        "X_test_sequences = tokenizer.texts_to_sequences([input_text])\n",
        "\n",
        "# Pad the sequence\n",
        "\n",
        "X_test_padded = pad_sequences(X_test_sequences, maxlen=len(X_test_sequences), padding='post')\n",
        "\n",
        "# Make predictions\n",
        "\n",
        "predictions = model.predict(X_test_padded)\n",
        "\n",
        "# Get the sentiment with the highest probability\n",
        "\n",
        "sentiment = np.argmax(predictions)\n",
        "\n",
        "sentiment"
      ]
    }
  ],
  "metadata": {
    "accelerator": "GPU",
    "colab": {
      "provenance": []
    },
    "gpuClass": "standard",
    "kernelspec": {
      "display_name": "TFM",
      "language": "python",
      "name": "python3"
    },
    "language_info": {
      "codemirror_mode": {
        "name": "ipython",
        "version": 3
      },
      "file_extension": ".py",
      "mimetype": "text/x-python",
      "name": "python",
      "nbconvert_exporter": "python",
      "pygments_lexer": "ipython3",
      "version": "3.10.9"
    },
    "orig_nbformat": 4
  },
  "nbformat": 4,
  "nbformat_minor": 0
}
