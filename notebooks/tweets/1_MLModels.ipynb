{
 "cells": [
  {
   "attachments": {},
   "cell_type": "markdown",
   "metadata": {},
   "source": [
    "<a name=\"top\"> <h1>01. ML Models</h1> <a>\n",
    "\n",
    "<p>Análisis de sentimiento: Tweets<br />\n",
    "<strong>Trabajo de Fin de Master</strong><br />\n",
    "<strong>Master Universitario en Ciencia de Datos</strong></p>\n",
    "\n",
    "<p>&nbsp;</p>\n",
    "\n",
    "<p style=\"text-align:right\">V&iacute;ctor Viloria V&aacute;zquez (<em>victor.viloria@cunef.edu</em>)</p>\n"
   ]
  },
  {
   "attachments": {},
   "cell_type": "markdown",
   "metadata": {},
   "source": [
    "<hr style=\"border:1px solid gray\">"
   ]
  },
  {
   "attachments": {},
   "cell_type": "markdown",
   "metadata": {},
   "source": [
    "### Estructura"
   ]
  },
  {
   "attachments": {},
   "cell_type": "markdown",
   "metadata": {},
   "source": [
    "[1. Librerias utilizadas y funciones](#librerias) \n",
    "\n",
    "[2. Introducción ](#introduccion) \n",
    "\n",
    "   - Objetivo de negocio.\n",
    "\n",
    "[3. Yelp Dataset ](#yelp) \n",
    "\n",
    "   - Información del dataset\n",
    "   - Características del dataset\n",
    "\n",
    "\n",
    "[4. Transformación del formato de ficheros](#transformacion) \n",
    "\n",
    "\n",
    "[5. Transformación de datos](#datos)\n",
    "\n",
    "   - Business\n",
    "       - Carga del fichero\n",
    "       - Transformación de los datos\n",
    "       - Exportación de ficheros procesados"
   ]
  },
  {
   "attachments": {},
   "cell_type": "markdown",
   "metadata": {},
   "source": [
    "<hr style=\"border:1px solid gray\">"
   ]
  },
  {
   "attachments": {},
   "cell_type": "markdown",
   "metadata": {},
   "source": [
    "# <a name=\"librerias\"> 1. Librerias utilizadas y funciones <a>\n"
   ]
  },
  {
   "attachments": {},
   "cell_type": "markdown",
   "metadata": {},
   "source": [
    "Importamos las librerias a utilizar para el preprocesamiento:"
   ]
  },
  {
   "cell_type": "code",
   "execution_count": 16,
   "metadata": {},
   "outputs": [],
   "source": [
    "# Import basic libraries.\n",
    "\n",
    "import pandas as pd\n",
    "import numpy as np\n",
    "import string\n",
    "import pickle\n",
    "import warnings\n",
    "warnings.filterwarnings('ignore')\n",
    "\n",
    "# Import ML libraries.\n",
    "\n",
    "from sklearn.model_selection import train_test_split\n",
    "from sklearn.svm import SVC\n",
    "from sklearn.feature_extraction.text import CountVectorizer\n",
    "from sklearn.feature_extraction.text import TfidfTransformer\n",
    "from sklearn.feature_extraction.text import TfidfVectorizer\n",
    "from sklearn.pipeline import make_pipeline\n",
    "from xgboost import XGBClassifier\n",
    "from sklearn.naive_bayes import MultinomialNB\n",
    "from sklearn.ensemble import RandomForestClassifier\n",
    "from sklearn.linear_model import LogisticRegression\n",
    "from sklearn.metrics import confusion_matrix, classification_report\n",
    "from sklearn import metrics \n",
    "\n",
    "# Import libraries for evaluation.\n",
    "\n",
    "from sklearn.model_selection import GridSearchCV"
   ]
  },
  {
   "attachments": {},
   "cell_type": "markdown",
   "metadata": {},
   "source": [
    "# <a name=\"lectura\"> 2. Lectura del dataframe y preparación de los datos<a>\n"
   ]
  },
  {
   "attachments": {},
   "cell_type": "markdown",
   "metadata": {},
   "source": [
    "## 2.1. Lectura del DF"
   ]
  },
  {
   "cell_type": "code",
   "execution_count": 5,
   "metadata": {},
   "outputs": [
    {
     "data": {
      "text/html": [
       "<div>\n",
       "<style scoped>\n",
       "    .dataframe tbody tr th:only-of-type {\n",
       "        vertical-align: middle;\n",
       "    }\n",
       "\n",
       "    .dataframe tbody tr th {\n",
       "        vertical-align: top;\n",
       "    }\n",
       "\n",
       "    .dataframe thead th {\n",
       "        text-align: right;\n",
       "    }\n",
       "</style>\n",
       "<table border=\"1\" class=\"dataframe\">\n",
       "  <thead>\n",
       "    <tr style=\"text-align: right;\">\n",
       "      <th></th>\n",
       "      <th>text</th>\n",
       "      <th>sentiment</th>\n",
       "      <th>SentimentText_clean</th>\n",
       "    </tr>\n",
       "  </thead>\n",
       "  <tbody>\n",
       "    <tr>\n",
       "      <th>0</th>\n",
       "      <td>id have responded if i were going</td>\n",
       "      <td>0</td>\n",
       "      <td>id have responded if i were going</td>\n",
       "    </tr>\n",
       "    <tr>\n",
       "      <th>1</th>\n",
       "      <td>sooo sad i will miss you here in san diego</td>\n",
       "      <td>2</td>\n",
       "      <td>sooo sad i will miss you here in san diego</td>\n",
       "    </tr>\n",
       "    <tr>\n",
       "      <th>2</th>\n",
       "      <td>my boss is bullying me</td>\n",
       "      <td>2</td>\n",
       "      <td>my boss is bullying me</td>\n",
       "    </tr>\n",
       "    <tr>\n",
       "      <th>3</th>\n",
       "      <td>what interview leave me alone</td>\n",
       "      <td>2</td>\n",
       "      <td>what interview leave me alone</td>\n",
       "    </tr>\n",
       "    <tr>\n",
       "      <th>4</th>\n",
       "      <td>sons of  why couldnt they put them on the rel...</td>\n",
       "      <td>2</td>\n",
       "      <td>sons of  why couldnt they put them on the rele...</td>\n",
       "    </tr>\n",
       "  </tbody>\n",
       "</table>\n",
       "</div>"
      ],
      "text/plain": [
       "                                                text  sentiment  \\\n",
       "0                  id have responded if i were going          0   \n",
       "1         sooo sad i will miss you here in san diego          2   \n",
       "2                             my boss is bullying me          2   \n",
       "3                      what interview leave me alone          2   \n",
       "4   sons of  why couldnt they put them on the rel...          2   \n",
       "\n",
       "                                 SentimentText_clean  \n",
       "0                  id have responded if i were going  \n",
       "1         sooo sad i will miss you here in san diego  \n",
       "2                             my boss is bullying me  \n",
       "3                      what interview leave me alone  \n",
       "4  sons of  why couldnt they put them on the rele...  "
      ]
     },
     "execution_count": 5,
     "metadata": {},
     "output_type": "execute_result"
    }
   ],
   "source": [
    "#Import parquet file.\n",
    "\n",
    "tweets = pd.read_parquet('../../data/processed/tweets.parquet')\n",
    "\n",
    "# Show the head of the dataframe.\n",
    "\n",
    "tweets.head()"
   ]
  },
  {
   "attachments": {},
   "cell_type": "markdown",
   "metadata": {},
   "source": [
    "## 2.2. Preparación de los datos"
   ]
  },
  {
   "attachments": {},
   "cell_type": "markdown",
   "metadata": {},
   "source": [
    "Preparamos los datos para que puedan ser introducidos dentro de los modelos, separando en X el texto y en Y las puntuaciones."
   ]
  },
  {
   "cell_type": "code",
   "execution_count": 9,
   "metadata": {},
   "outputs": [],
   "source": [
    "# Define X and y.\n",
    "\n",
    "X = tweets.SentimentText_clean\n",
    "y = tweets.sentiment\n",
    "\n",
    "# Split into train and test.\n",
    "\n",
    "x_train, x_test, y_train, y_test = train_test_split(X, y, test_size=0.2, random_state=1234)"
   ]
  },
  {
   "attachments": {},
   "cell_type": "markdown",
   "metadata": {},
   "source": [
    "# <a name=\"modelos\"> 3. Evaluación de los modelos<a>\n"
   ]
  },
  {
   "attachments": {},
   "cell_type": "markdown",
   "metadata": {},
   "source": [
    "## 3.1. Support Vector Classifier"
   ]
  },
  {
   "cell_type": "code",
   "execution_count": 11,
   "metadata": {},
   "outputs": [],
   "source": [
    "# Set up the pipeline.\n",
    "\n",
    "tfidf = TfidfVectorizer(stop_words=\"english\",max_df=0.99,min_df=0.01)\n",
    "svc = SVC(probability=True)\n",
    "model = make_pipeline(tfidf, svc)\n",
    "\n",
    "# Training the model.\n",
    "\n",
    "model.fit(x_train, y_train)\n",
    "\n",
    "# Prediction.\n",
    "preds= model.predict(x_test)\n",
    "predict_probabilities = model.predict_proba(x_test)"
   ]
  },
  {
   "cell_type": "code",
   "execution_count": 12,
   "metadata": {},
   "outputs": [
    {
     "name": "stdout",
     "output_type": "stream",
     "text": [
      "              precision    recall  f1-score   support\n",
      "\n",
      "           0       0.52      0.78      0.63      2252\n",
      "           1       0.73      0.57      0.64      1719\n",
      "           2       0.60      0.31      0.41      1526\n",
      "\n",
      "    accuracy                           0.59      5497\n",
      "   macro avg       0.62      0.55      0.56      5497\n",
      "weighted avg       0.61      0.59      0.57      5497\n",
      "\n",
      "0.5852283063489175\n"
     ]
    }
   ],
   "source": [
    "# Evaluation\n",
    "print(classification_report(y_test,preds))\n",
    "print(metrics.accuracy_score(y_test,preds))"
   ]
  },
  {
   "cell_type": "code",
   "execution_count": 13,
   "metadata": {},
   "outputs": [],
   "source": [
    "# Entrenar el modelo\n",
    "clf = MultinomialNB()\n",
    "\n",
    "model = make_pipeline(tfidf, clf)\n",
    "#Training\n",
    "model.fit(x_train, y_train)\n",
    "\n",
    "#Prediccion sobre test\n",
    "preds= model.predict(x_test )\n"
   ]
  },
  {
   "cell_type": "code",
   "execution_count": 14,
   "metadata": {},
   "outputs": [
    {
     "name": "stdout",
     "output_type": "stream",
     "text": [
      "              precision    recall  f1-score   support\n",
      "\n",
      "           0       0.50      0.86      0.63      2252\n",
      "           1       0.75      0.51      0.61      1719\n",
      "           2       0.70      0.24      0.35      1526\n",
      "\n",
      "    accuracy                           0.58      5497\n",
      "   macro avg       0.65      0.53      0.53      5497\n",
      "weighted avg       0.64      0.58      0.55      5497\n",
      "\n",
      "0.5752228488266327\n"
     ]
    }
   ],
   "source": [
    "# Evaluation\n",
    "print(classification_report(y_test,preds))\n",
    "print(metrics.accuracy_score(y_test,preds))"
   ]
  },
  {
   "cell_type": "code",
   "execution_count": 17,
   "metadata": {},
   "outputs": [],
   "source": [
    "# Entrenar el modelo\n",
    "\n",
    "xgb = XGBClassifier()\n",
    "\n",
    "model = make_pipeline(tfidf, xgb)\n",
    "\n",
    "#Training\n",
    "\n",
    "model.fit(x_train, y_train)\n",
    "\n",
    "#Prediccion sobre test\n",
    "\n",
    "preds= model.predict(x_test )"
   ]
  },
  {
   "cell_type": "code",
   "execution_count": 40,
   "metadata": {},
   "outputs": [
    {
     "data": {
      "text/plain": [
       "0.5723121702746953"
      ]
     },
     "execution_count": 40,
     "metadata": {},
     "output_type": "execute_result"
    }
   ],
   "source": [
    "# Entrene con modelo random forest\n",
    "\n",
    "from sklearn.ensemble import RandomForestClassifier\n",
    "\n",
    "# Entrenar el modelo\n",
    "\n",
    "rf = RandomForestClassifier()\n",
    "\n",
    "model = make_pipeline(tfidf, rf)\n",
    "\n",
    "#Training\n",
    "\n",
    "model.fit(x_train, y_train)\n",
    "\n",
    "#Prediccion sobre test\n",
    "\n",
    "preds= model.predict(x_test )\n",
    "\n",
    "np.mean(preds==y_test)"
   ]
  },
  {
   "cell_type": "code",
   "execution_count": 43,
   "metadata": {},
   "outputs": [
    {
     "data": {
      "text/plain": [
       "0.585955975986902"
      ]
     },
     "execution_count": 43,
     "metadata": {},
     "output_type": "execute_result"
    }
   ],
   "source": [
    "# Train with logistic regression\n",
    "\n",
    "from sklearn.linear_model import LogisticRegression\n",
    "\n",
    "# Entrenar el modelo\n",
    "\n",
    "lr = LogisticRegression()\n",
    "\n",
    "model = make_pipeline(tfidf, lr)\n",
    "\n",
    "#Training\n",
    "\n",
    "model.fit(x_train, y_train)\n",
    "\n",
    "#Prediccion sobre test\n",
    "\n",
    "preds= model.predict(x_test )\n",
    "\n",
    "np.mean(preds==y_test)\n",
    "\n"
   ]
  }
 ],
 "metadata": {
  "kernelspec": {
   "display_name": "TFM",
   "language": "python",
   "name": "python3"
  },
  "language_info": {
   "codemirror_mode": {
    "name": "ipython",
    "version": 3
   },
   "file_extension": ".py",
   "mimetype": "text/x-python",
   "name": "python",
   "nbconvert_exporter": "python",
   "pygments_lexer": "ipython3",
   "version": "3.9.16"
  },
  "orig_nbformat": 4
 },
 "nbformat": 4,
 "nbformat_minor": 2
}
