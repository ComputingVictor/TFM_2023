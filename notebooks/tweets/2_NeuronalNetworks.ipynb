{
  "cells": [
    {
      "attachments": {},
      "cell_type": "markdown",
      "metadata": {
        "id": "D1anb1ytuz2k"
      },
      "source": [
        "<a name=\"top\"> <h1>02. Neuronal Networks</h1> <a>\n",
        "\n",
        "<p>Análisis de sentimiento: Tweets<br />\n",
        "<strong>Trabajo de Fin de Master</strong><br />\n",
        "<strong>Master Universitario en Ciencia de Datos</strong></p>\n",
        "\n",
        "<p>&nbsp;</p>\n",
        "\n",
        "<p style=\"text-align:right\">V&iacute;ctor Viloria V&aacute;zquez (<em>victor.viloria@cunef.edu</em>)</p>\n"
      ]
    },
    {
      "attachments": {},
      "cell_type": "markdown",
      "metadata": {
        "id": "MGnWP0EVuz2p"
      },
      "source": [
        "<hr style=\"border:1px solid gray\">"
      ]
    },
    {
      "attachments": {},
      "cell_type": "markdown",
      "metadata": {
        "id": "V-c-ExD8uz2y"
      },
      "source": [
        "### Estructura"
      ]
    },
    {
      "attachments": {},
      "cell_type": "markdown",
      "metadata": {
        "id": "4y506okXuz22"
      },
      "source": [
        "[1. Librerias utilizadas y funciones](#librerias) \n",
        "\n",
        "[2. Introducción ](#introduccion) \n",
        "\n",
        "   - Objetivo de negocio.\n",
        "\n",
        "[3. Yelp Dataset ](#yelp) \n",
        "\n",
        "   - Información del dataset\n",
        "   - Características del dataset\n",
        "\n",
        "\n",
        "[4. Transformación del formato de ficheros](#transformacion) \n",
        "\n",
        "\n",
        "[5. Transformación de datos](#datos)\n",
        "\n",
        "   - Business\n",
        "       - Carga del fichero\n",
        "       - Transformación de los datos\n",
        "       - Exportación de ficheros procesados"
      ]
    },
    {
      "attachments": {},
      "cell_type": "markdown",
      "metadata": {
        "id": "nhcT10vJuz24"
      },
      "source": [
        "<hr style=\"border:1px solid gray\">"
      ]
    },
    {
      "attachments": {},
      "cell_type": "markdown",
      "metadata": {
        "id": "_mjKoACXuz25"
      },
      "source": [
        "# <a name=\"librerias\"> 1. Librerias utilizadas y funciones <a>\n"
      ]
    },
    {
      "attachments": {},
      "cell_type": "markdown",
      "metadata": {
        "id": "9JBx12Gsuz26"
      },
      "source": [
        "Importamos las librerias a utilizar para el preprocesamiento:"
      ]
    },
    {
      "cell_type": "code",
      "execution_count": 8,
      "metadata": {
        "id": "a3eiEFg5uz3G"
      },
      "outputs": [],
      "source": [
        "# Import libraries.\n",
        "\n",
        "import pandas as pd\n",
        "from sklearn.feature_extraction.text import CountVectorizer\n",
        "from sklearn.svm import SVC\n",
        "import numpy as np\n",
        "import string\n",
        "\n",
        "# Import neural network libraries.\n",
        "\n",
        "import tensorflow as tf\n",
        "from tensorflow.keras.preprocessing.text import Tokenizer\n",
        "from tensorflow.keras.preprocessing.sequence import pad_sequences\n",
        "from tensorflow.keras.layers import Embedding, Conv1D, MaxPooling1D, Dropout, Dense"
      ]
    },
    {
      "attachments": {},
      "cell_type": "markdown",
      "metadata": {
        "id": "U3CG8-gbuz3I"
      },
      "source": [
        "# <a name=\"lectura\"> 2. Lectura del dataframe <a>\n"
      ]
    },
    {
      "cell_type": "code",
      "execution_count": 9,
      "metadata": {
        "colab": {
          "base_uri": "https://localhost:8080/",
          "height": 206
        },
        "id": "PJBg5uE4uz3J",
        "outputId": "bb66f4a0-ec10-4503-d36a-f12328d6a8a3"
      },
      "outputs": [
        {
          "data": {
            "text/html": [
              "<div>\n",
              "<style scoped>\n",
              "    .dataframe tbody tr th:only-of-type {\n",
              "        vertical-align: middle;\n",
              "    }\n",
              "\n",
              "    .dataframe tbody tr th {\n",
              "        vertical-align: top;\n",
              "    }\n",
              "\n",
              "    .dataframe thead th {\n",
              "        text-align: right;\n",
              "    }\n",
              "</style>\n",
              "<table border=\"1\" class=\"dataframe\">\n",
              "  <thead>\n",
              "    <tr style=\"text-align: right;\">\n",
              "      <th></th>\n",
              "      <th>text</th>\n",
              "      <th>sentiment</th>\n",
              "      <th>SentimentText_clean</th>\n",
              "    </tr>\n",
              "  </thead>\n",
              "  <tbody>\n",
              "    <tr>\n",
              "      <th>0</th>\n",
              "      <td>id have responded if i were going</td>\n",
              "      <td>0</td>\n",
              "      <td>id responded going</td>\n",
              "    </tr>\n",
              "    <tr>\n",
              "      <th>1</th>\n",
              "      <td>sooo sad i will miss you here in san diego</td>\n",
              "      <td>2</td>\n",
              "      <td>sooo sad miss san diego</td>\n",
              "    </tr>\n",
              "    <tr>\n",
              "      <th>2</th>\n",
              "      <td>my boss is bullying me</td>\n",
              "      <td>2</td>\n",
              "      <td>boss bullying</td>\n",
              "    </tr>\n",
              "    <tr>\n",
              "      <th>3</th>\n",
              "      <td>what interview leave me alone</td>\n",
              "      <td>2</td>\n",
              "      <td>interview leave alone</td>\n",
              "    </tr>\n",
              "    <tr>\n",
              "      <th>4</th>\n",
              "      <td>sons of  why couldnt they put them on the rel...</td>\n",
              "      <td>2</td>\n",
              "      <td>sons couldnt put releases already bought</td>\n",
              "    </tr>\n",
              "  </tbody>\n",
              "</table>\n",
              "</div>"
            ],
            "text/plain": [
              "                                                text  sentiment  \\\n",
              "0                  id have responded if i were going          0   \n",
              "1         sooo sad i will miss you here in san diego          2   \n",
              "2                             my boss is bullying me          2   \n",
              "3                      what interview leave me alone          2   \n",
              "4   sons of  why couldnt they put them on the rel...          2   \n",
              "\n",
              "                        SentimentText_clean  \n",
              "0                        id responded going  \n",
              "1                   sooo sad miss san diego  \n",
              "2                             boss bullying  \n",
              "3                     interview leave alone  \n",
              "4  sons couldnt put releases already bought  "
            ]
          },
          "execution_count": 9,
          "metadata": {},
          "output_type": "execute_result"
        }
      ],
      "source": [
        "#Import parquet file.\n",
        "\n",
        "reviews = pd.read_parquet('../../data/processed/tweets.parquet')\n",
        "\n",
        "# Show the head of the dataframe.\n",
        "\n",
        "reviews.head()"
      ]
    },
    {
      "cell_type": "code",
      "execution_count": 10,
      "metadata": {
        "id": "Dw3Rbo2zzuOo"
      },
      "outputs": [],
      "source": [
        "tweets = reviews[\"SentimentText_clean\"].tolist()\n",
        "sentimientos = reviews[\"sentiment\"].values"
      ]
    },
    {
      "cell_type": "code",
      "execution_count": 11,
      "metadata": {
        "id": "T1lTsZsZz1hE"
      },
      "outputs": [],
      "source": [
        "tokenizer = Tokenizer(num_words=10000, oov_token=\"<OOV>\")\n",
        "tokenizer.fit_on_texts(tweets)\n",
        "word_index = tokenizer.word_index"
      ]
    },
    {
      "cell_type": "code",
      "execution_count": 12,
      "metadata": {
        "id": "5ruaSfnJz2pO"
      },
      "outputs": [],
      "source": [
        "sequences = tokenizer.texts_to_sequences(tweets)\n"
      ]
    },
    {
      "cell_type": "code",
      "execution_count": 13,
      "metadata": {
        "id": "cT_bwUmXz94j"
      },
      "outputs": [],
      "source": [
        "max_length = max([len(seq) for seq in sequences])\n",
        "padded_sequences = pad_sequences(sequences, maxlen=max_length, padding=\"post\", truncating=\"post\")\n"
      ]
    },
    {
      "cell_type": "code",
      "execution_count": 14,
      "metadata": {
        "id": "6CX11VGjz_m_"
      },
      "outputs": [],
      "source": [
        "model = tf.keras.Sequential([\n",
        "    tf.keras.layers.Embedding(input_dim=len(word_index) + 1, output_dim=64, input_length=max_length),\n",
        "    tf.keras.layers.Conv1D(128, 5, activation=\"relu\"),\n",
        "    tf.keras.layers.GlobalMaxPooling1D(),\n",
        "    tf.keras.layers.Dense(64, activation=\"relu\"),\n",
        "    tf.keras.layers.Dense(3, activation=\"softmax\")\n",
        "])\n"
      ]
    },
    {
      "cell_type": "code",
      "execution_count": 15,
      "metadata": {
        "id": "65TMNdfP0HFG"
      },
      "outputs": [],
      "source": [
        "model.compile(loss=\"sparse_categorical_crossentropy\", optimizer=\"adam\", metrics=[\"accuracy\"])"
      ]
    },
    {
      "cell_type": "code",
      "execution_count": 16,
      "metadata": {
        "colab": {
          "base_uri": "https://localhost:8080/"
        },
        "id": "kIKApT5a0K23",
        "outputId": "a6e9d3c5-2206-4beb-8b62-a4a923d02523"
      },
      "outputs": [
        {
          "name": "stdout",
          "output_type": "stream",
          "text": [
            "Epoch 1/10\n",
            "687/687 [==============================] - 9s 12ms/step - loss: 0.7954 - accuracy: 0.6446 - val_loss: 0.6849 - val_accuracy: 0.7164\n",
            "Epoch 2/10\n",
            "687/687 [==============================] - 8s 12ms/step - loss: 0.5443 - accuracy: 0.7835 - val_loss: 0.7268 - val_accuracy: 0.7047\n",
            "Epoch 3/10\n",
            "687/687 [==============================] - 8s 12ms/step - loss: 0.3422 - accuracy: 0.8779 - val_loss: 0.8481 - val_accuracy: 0.6876\n",
            "Epoch 4/10\n",
            "687/687 [==============================] - 8s 12ms/step - loss: 0.1872 - accuracy: 0.9393 - val_loss: 1.0929 - val_accuracy: 0.6678\n",
            "Epoch 5/10\n",
            "687/687 [==============================] - 8s 12ms/step - loss: 0.1020 - accuracy: 0.9690 - val_loss: 1.2762 - val_accuracy: 0.6627\n",
            "Epoch 6/10\n",
            "687/687 [==============================] - 12s 17ms/step - loss: 0.0644 - accuracy: 0.9811 - val_loss: 1.5388 - val_accuracy: 0.6689\n",
            "Epoch 7/10\n",
            "687/687 [==============================] - 12s 18ms/step - loss: 0.0460 - accuracy: 0.9863 - val_loss: 1.7358 - val_accuracy: 0.6596\n",
            "Epoch 8/10\n",
            "687/687 [==============================] - 12s 17ms/step - loss: 0.0387 - accuracy: 0.9886 - val_loss: 1.8883 - val_accuracy: 0.6605\n",
            "Epoch 9/10\n",
            "687/687 [==============================] - 8s 11ms/step - loss: 0.0366 - accuracy: 0.9880 - val_loss: 1.9161 - val_accuracy: 0.6556\n",
            "Epoch 10/10\n",
            "687/687 [==============================] - 9s 13ms/step - loss: 0.0334 - accuracy: 0.9894 - val_loss: 2.1473 - val_accuracy: 0.6438\n"
          ]
        },
        {
          "data": {
            "text/plain": [
              "<keras.callbacks.History at 0x16157099d90>"
            ]
          },
          "execution_count": 16,
          "metadata": {},
          "output_type": "execute_result"
        }
      ],
      "source": [
        "# Entrenar el modelo\n",
        "model.fit(padded_sequences, sentimientos, epochs=10, validation_split=0.2)"
      ]
    },
    {
      "cell_type": "code",
      "execution_count": 24,
      "metadata": {
        "colab": {
          "base_uri": "https://localhost:8080/"
        },
        "id": "uil2PX2f0xRe",
        "outputId": "2b72caeb-a0b2-449e-ac8d-81527f14242f"
      },
      "outputs": [
        {
          "name": "stdout",
          "output_type": "stream",
          "text": [
            "Epoch 1/20\n",
            "687/687 [==============================] - 22s 29ms/step - loss: 1.0151 - accuracy: 0.4689 - val_loss: 0.7697 - val_accuracy: 0.6631\n",
            "Epoch 2/20\n",
            "687/687 [==============================] - 5s 7ms/step - loss: 0.7289 - accuracy: 0.6988 - val_loss: 0.6758 - val_accuracy: 0.7178\n",
            "Epoch 3/20\n",
            "687/687 [==============================] - 4s 6ms/step - loss: 0.5802 - accuracy: 0.7719 - val_loss: 0.7030 - val_accuracy: 0.7142\n",
            "Epoch 4/20\n",
            "687/687 [==============================] - 4s 7ms/step - loss: 0.4708 - accuracy: 0.8212 - val_loss: 0.7474 - val_accuracy: 0.7033\n",
            "Epoch 5/20\n",
            "687/687 [==============================] - 4s 6ms/step - loss: 0.3847 - accuracy: 0.8555 - val_loss: 0.8447 - val_accuracy: 0.7022\n",
            "Epoch 6/20\n",
            "687/687 [==============================] - 3s 5ms/step - loss: 0.3166 - accuracy: 0.8860 - val_loss: 0.9472 - val_accuracy: 0.6875\n",
            "Epoch 7/20\n",
            "687/687 [==============================] - 5s 7ms/step - loss: 0.2697 - accuracy: 0.9041 - val_loss: 1.0619 - val_accuracy: 0.6789\n",
            "Epoch 8/20\n",
            "687/687 [==============================] - 4s 5ms/step - loss: 0.2288 - accuracy: 0.9206 - val_loss: 1.1757 - val_accuracy: 0.6786\n",
            "Epoch 9/20\n",
            "687/687 [==============================] - 4s 6ms/step - loss: 0.2033 - accuracy: 0.9307 - val_loss: 1.4384 - val_accuracy: 0.6796\n",
            "Epoch 10/20\n",
            "687/687 [==============================] - 4s 6ms/step - loss: 0.1814 - accuracy: 0.9376 - val_loss: 1.4390 - val_accuracy: 0.6776\n",
            "Epoch 11/20\n",
            "687/687 [==============================] - 4s 6ms/step - loss: 0.1624 - accuracy: 0.9444 - val_loss: 1.5350 - val_accuracy: 0.6689\n",
            "Epoch 12/20\n",
            "687/687 [==============================] - 3s 5ms/step - loss: 0.1510 - accuracy: 0.9516 - val_loss: 1.5593 - val_accuracy: 0.6756\n",
            "Epoch 13/20\n",
            "687/687 [==============================] - 4s 6ms/step - loss: 0.1418 - accuracy: 0.9540 - val_loss: 1.6352 - val_accuracy: 0.6716\n",
            "Epoch 14/20\n",
            "687/687 [==============================] - 3s 5ms/step - loss: 0.1309 - accuracy: 0.9577 - val_loss: 1.6850 - val_accuracy: 0.6633\n",
            "Epoch 15/20\n",
            "687/687 [==============================] - 4s 5ms/step - loss: 0.1218 - accuracy: 0.9600 - val_loss: 1.8680 - val_accuracy: 0.6740\n",
            "Epoch 16/20\n",
            "687/687 [==============================] - 4s 6ms/step - loss: 0.1130 - accuracy: 0.9624 - val_loss: 1.9218 - val_accuracy: 0.6684\n",
            "Epoch 17/20\n",
            "687/687 [==============================] - 5s 7ms/step - loss: 0.1064 - accuracy: 0.9665 - val_loss: 2.0797 - val_accuracy: 0.6635\n",
            "Epoch 18/20\n",
            "687/687 [==============================] - 4s 5ms/step - loss: 0.1012 - accuracy: 0.9670 - val_loss: 2.0242 - val_accuracy: 0.6658\n",
            "Epoch 19/20\n",
            "687/687 [==============================] - 4s 5ms/step - loss: 0.0924 - accuracy: 0.9698 - val_loss: 2.2860 - val_accuracy: 0.6640\n",
            "Epoch 20/20\n",
            "687/687 [==============================] - 4s 6ms/step - loss: 0.0915 - accuracy: 0.9703 - val_loss: 2.3402 - val_accuracy: 0.6576\n"
          ]
        }
      ],
      "source": [
        "# Crear el modelo de la red neuronal\n",
        "model = tf.keras.Sequential([\n",
        "    tf.keras.layers.Embedding(input_dim=len(word_index) + 1, output_dim=64, input_length=max_length),\n",
        "    tf.keras.layers.Conv1D(128, 5, activation=\"relu\"),\n",
        "    tf.keras.layers.MaxPooling1D(5),\n",
        "    tf.keras.layers.Dropout(0.5),\n",
        "    tf.keras.layers.Conv1D(64, 5, activation=\"relu\"),\n",
        "    tf.keras.layers.GlobalMaxPooling1D(),\n",
        "    tf.keras.layers.Dropout(0.5),\n",
        "    tf.keras.layers.Dense(64, activation=\"relu\"),\n",
        "    tf.keras.layers.Dropout(0.5),\n",
        "    tf.keras.layers.Dense(3, activation=\"softmax\")\n",
        "])\n",
        "\n",
        "# Compilar el modelo\n",
        "model.compile(loss=\"sparse_categorical_crossentropy\", optimizer=\"adam\", metrics=[\"accuracy\"])\n",
        "\n",
        "# Entrenar el modelo con validación cruzada\n",
        "history = model.fit(padded_sequences, sentimientos, epochs=20, validation_split=0.2, batch_size=32)\n",
        "\n"
      ]
    },
    {
      "cell_type": "code",
      "execution_count": 28,
      "metadata": {},
      "outputs": [
        {
          "name": "stdout",
          "output_type": "stream",
          "text": [
            "Epoch 1/20\n",
            "687/687 [==============================] - 8s 12ms/step - loss: 1.0202 - accuracy: 0.4670 - val_loss: 0.8594 - val_accuracy: 0.5701\n",
            "Epoch 2/20\n",
            "687/687 [==============================] - 8s 12ms/step - loss: 0.8210 - accuracy: 0.6325 - val_loss: 0.7230 - val_accuracy: 0.7004\n",
            "Epoch 3/20\n",
            "687/687 [==============================] - 8s 12ms/step - loss: 0.6926 - accuracy: 0.7123 - val_loss: 0.6940 - val_accuracy: 0.7097\n",
            "Epoch 4/20\n",
            "687/687 [==============================] - 8s 11ms/step - loss: 0.6116 - accuracy: 0.7555 - val_loss: 0.7083 - val_accuracy: 0.6911\n",
            "Epoch 5/20\n",
            "687/687 [==============================] - 8s 12ms/step - loss: 0.5469 - accuracy: 0.7890 - val_loss: 0.7112 - val_accuracy: 0.7097\n",
            "Epoch 6/20\n",
            "687/687 [==============================] - 8s 12ms/step - loss: 0.5012 - accuracy: 0.8103 - val_loss: 0.7398 - val_accuracy: 0.7011\n",
            "Epoch 7/20\n",
            "687/687 [==============================] - 8s 12ms/step - loss: 0.4609 - accuracy: 0.8271 - val_loss: 0.7676 - val_accuracy: 0.6957\n",
            "Epoch 8/20\n",
            "687/687 [==============================] - 8s 12ms/step - loss: 0.4194 - accuracy: 0.8443 - val_loss: 0.7963 - val_accuracy: 0.6816\n",
            "Epoch 9/20\n",
            "687/687 [==============================] - 8s 12ms/step - loss: 0.3914 - accuracy: 0.8554 - val_loss: 0.8238 - val_accuracy: 0.6873\n",
            "Epoch 10/20\n",
            "687/687 [==============================] - 8s 11ms/step - loss: 0.3658 - accuracy: 0.8678 - val_loss: 0.8621 - val_accuracy: 0.6864\n",
            "Epoch 11/20\n",
            "687/687 [==============================] - 8s 12ms/step - loss: 0.3493 - accuracy: 0.8727 - val_loss: 0.8787 - val_accuracy: 0.6816\n",
            "Epoch 12/20\n",
            "687/687 [==============================] - 8s 12ms/step - loss: 0.3304 - accuracy: 0.8797 - val_loss: 0.9105 - val_accuracy: 0.6787\n",
            "Epoch 13/20\n",
            "687/687 [==============================] - 8s 12ms/step - loss: 0.3114 - accuracy: 0.8872 - val_loss: 0.9467 - val_accuracy: 0.6744\n",
            "Epoch 14/20\n",
            "687/687 [==============================] - 8s 12ms/step - loss: 0.2965 - accuracy: 0.8950 - val_loss: 1.0017 - val_accuracy: 0.6725\n",
            "Epoch 15/20\n",
            "687/687 [==============================] - 8s 12ms/step - loss: 0.2823 - accuracy: 0.8996 - val_loss: 1.0567 - val_accuracy: 0.6653\n",
            "Epoch 16/20\n",
            "687/687 [==============================] - 8s 11ms/step - loss: 0.2703 - accuracy: 0.9028 - val_loss: 1.0994 - val_accuracy: 0.6664\n",
            "Epoch 17/20\n",
            "687/687 [==============================] - 8s 12ms/step - loss: 0.2639 - accuracy: 0.9049 - val_loss: 1.1198 - val_accuracy: 0.6680\n",
            "Epoch 18/20\n",
            "687/687 [==============================] - 8s 12ms/step - loss: 0.2463 - accuracy: 0.9128 - val_loss: 1.1710 - val_accuracy: 0.6664\n",
            "Epoch 19/20\n",
            "687/687 [==============================] - 8s 11ms/step - loss: 0.2376 - accuracy: 0.9167 - val_loss: 1.1931 - val_accuracy: 0.6636\n",
            "Epoch 20/20\n",
            "687/687 [==============================] - 8s 11ms/step - loss: 0.2335 - accuracy: 0.9172 - val_loss: 1.2086 - val_accuracy: 0.6642\n"
          ]
        }
      ],
      "source": [
        "# Crear el modelo de la red neuronal\n",
        "model = tf.keras.Sequential([\n",
        "    Embedding(input_dim=len(word_index) + 1, output_dim=64, input_length=max_length),\n",
        "    MaxPooling1D(5),\n",
        "    Dropout(0.5),\n",
        "    Conv1D(64, 5, activation=\"relu\"),\n",
        "    GlobalMaxPooling1D(),\n",
        "    Dropout(0.5),\n",
        "    Dense(64, activation=\"relu\"),\n",
        "    Dropout(0.5),\n",
        "    Dense(3, activation=\"softmax\")\n",
        "])\n",
        "\n",
        "# Compilar el modelo\n",
        "model.compile(loss=\"sparse_categorical_crossentropy\", optimizer=\"adam\", metrics=[\"accuracy\"])\n",
        "\n",
        "# Entrenar el modelo con validación cruzada\n",
        "history = model.fit(padded_sequences, sentimientos, epochs=20, validation_split=0.2, batch_size=32)\n"
      ]
    },
    {
      "cell_type": "code",
      "execution_count": 18,
      "metadata": {},
      "outputs": [],
      "source": [
        "import tensorflow as tf\n",
        "from tensorflow.keras.layers import Embedding, Conv1D, GlobalMaxPooling1D, Dense\n",
        "from tensorflow.keras.regularizers import l2\n",
        "from tensorflow.keras.optimizers import Adam"
      ]
    },
    {
      "cell_type": "code",
      "execution_count": 30,
      "metadata": {
        "id": "IVbumLn21Q8A"
      },
      "outputs": [],
      "source": [
        "model.save(\"../../models/nn_tweets.h5\")"
      ]
    }
  ],
  "metadata": {
    "accelerator": "GPU",
    "colab": {
      "provenance": []
    },
    "gpuClass": "standard",
    "kernelspec": {
      "display_name": "TFM",
      "language": "python",
      "name": "python3"
    },
    "language_info": {
      "codemirror_mode": {
        "name": "ipython",
        "version": 3
      },
      "file_extension": ".py",
      "mimetype": "text/x-python",
      "name": "python",
      "nbconvert_exporter": "python",
      "pygments_lexer": "ipython3",
      "version": "3.8.16"
    },
    "orig_nbformat": 4
  },
  "nbformat": 4,
  "nbformat_minor": 0
}
